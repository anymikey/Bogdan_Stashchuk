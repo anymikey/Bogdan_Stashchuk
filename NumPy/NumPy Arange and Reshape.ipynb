{
 "cells": [
  {
   "cell_type": "code",
   "execution_count": 1,
   "id": "13a6a9ed-8ada-4ae0-b0c0-230f5da1a2a6",
   "metadata": {},
   "outputs": [],
   "source": [
    "import numpy as np"
   ]
  },
  {
   "cell_type": "code",
   "execution_count": 16,
   "id": "115dbfe9-b096-424a-a65e-db6ce5deeeb3",
   "metadata": {},
   "outputs": [
    {
     "data": {
      "text/plain": [
       "array([[0, 1, 2, 3, 4],\n",
       "       [5, 6, 7, 8, 9]])"
      ]
     },
     "execution_count": 16,
     "metadata": {},
     "output_type": "execute_result"
    }
   ],
   "source": [
    "np.arange(10).reshape([2, 5])"
   ]
  },
  {
   "cell_type": "code",
   "execution_count": 17,
   "id": "9df8aff2-c26a-46a7-9eed-0f4bd2cdf0f9",
   "metadata": {},
   "outputs": [
    {
     "ename": "ValueError",
     "evalue": "cannot reshape array of size 10 into shape (3,10)",
     "output_type": "error",
     "traceback": [
      "\u001b[1;31m-----------------------------------------------------------\u001b[0m",
      "\u001b[1;31mValueError\u001b[0m                Traceback (most recent call last)",
      "Cell \u001b[1;32mIn[17], line 1\u001b[0m\n\u001b[1;32m----> 1\u001b[0m \u001b[43mnp\u001b[49m\u001b[38;5;241;43m.\u001b[39;49m\u001b[43marange\u001b[49m\u001b[43m(\u001b[49m\u001b[38;5;241;43m10\u001b[39;49m\u001b[43m)\u001b[49m\u001b[38;5;241;43m.\u001b[39;49m\u001b[43mreshape\u001b[49m\u001b[43m(\u001b[49m\u001b[43m[\u001b[49m\u001b[38;5;241;43m3\u001b[39;49m\u001b[43m,\u001b[49m\u001b[43m \u001b[49m\u001b[38;5;241;43m10\u001b[39;49m\u001b[43m]\u001b[49m\u001b[43m)\u001b[49m\n",
      "\u001b[1;31mValueError\u001b[0m: cannot reshape array of size 10 into shape (3,10)"
     ]
    }
   ],
   "source": [
    "np.arange(10).reshape([3, 10])"
   ]
  },
  {
   "cell_type": "code",
   "execution_count": 19,
   "id": "c46da47e-fe2a-4e02-9f81-75bbecae779d",
   "metadata": {},
   "outputs": [
    {
     "data": {
      "text/plain": [
       "array([[[ 0,  1,  2,  3,  4],\n",
       "        [ 5,  6,  7,  8,  9]],\n",
       "\n",
       "       [[10, 11, 12, 13, 14],\n",
       "        [15, 16, 17, 18, 19]]])"
      ]
     },
     "execution_count": 19,
     "metadata": {},
     "output_type": "execute_result"
    }
   ],
   "source": [
    "np.arange(20).reshape([4, 5]).reshape([2, 2, 5])"
   ]
  },
  {
   "cell_type": "code",
   "execution_count": 20,
   "id": "07bcf671-c405-411c-8cce-c54c7f636d6b",
   "metadata": {},
   "outputs": [
    {
     "data": {
      "text/plain": [
       "array([0.39126714, 0.0897739 , 0.75684936, 0.07981698, 0.08868144,\n",
       "       0.56948768, 0.82285587, 0.46883858, 0.32008708, 0.92092904])"
      ]
     },
     "execution_count": 20,
     "metadata": {},
     "output_type": "execute_result"
    }
   ],
   "source": [
    "np.random.random((10, ))"
   ]
  },
  {
   "cell_type": "code",
   "execution_count": 22,
   "id": "924025c1-03be-4ec6-8b02-3d4de47bebc1",
   "metadata": {},
   "outputs": [
    {
     "data": {
      "text/plain": [
       "array([[0.95438758, 0.72571378, 0.26352003, 0.2062683 , 0.4035126 ],\n",
       "       [0.31268687, 0.76552371, 0.55406601, 0.65344673, 0.4802754 ]])"
      ]
     },
     "execution_count": 22,
     "metadata": {},
     "output_type": "execute_result"
    }
   ],
   "source": [
    "np.random.random((10, )).reshape((2, 5))"
   ]
  },
  {
   "cell_type": "code",
   "execution_count": 24,
   "id": "c64a2201-b437-490a-89de-75285e49b7c2",
   "metadata": {},
   "outputs": [
    {
     "data": {
      "text/plain": [
       "array([[[62, 65, 71],\n",
       "        [50, 53, 77],\n",
       "        [53, 57, 59]],\n",
       "\n",
       "       [[69, 71, 68],\n",
       "        [54, 73, 56],\n",
       "        [74, 74, 62]],\n",
       "\n",
       "       [[76, 51, 56],\n",
       "        [57, 73, 64],\n",
       "        [74, 67, 55]],\n",
       "\n",
       "       [[75, 63, 58],\n",
       "        [59, 70, 69],\n",
       "        [66, 69, 55]]], dtype=int32)"
      ]
     },
     "execution_count": 24,
     "metadata": {},
     "output_type": "execute_result"
    }
   ],
   "source": [
    "np.random.seed(0)\n",
    "np.random.randint(50, 80, (4, 3, 3))"
   ]
  },
  {
   "cell_type": "code",
   "execution_count": 37,
   "id": "224031f3-410c-4dab-8744-ad81bc275797",
   "metadata": {},
   "outputs": [
    {
     "data": {
      "text/plain": [
       "array([62, 65, 71, 50, 53, 77, 53, 57, 59, 69, 71, 68, 54, 73, 56, 74, 74,\n",
       "       62, 76, 51, 56, 57, 73, 64, 74, 67, 55, 75, 63, 58, 59, 70, 69, 66,\n",
       "       69, 55], dtype=int32)"
      ]
     },
     "execution_count": 37,
     "metadata": {},
     "output_type": "execute_result"
    }
   ],
   "source": [
    "np.random.seed(0)\n",
    "np.random.randint(50, 80, (4, 3, 3)).flatten()"
   ]
  },
  {
   "cell_type": "code",
   "execution_count": 31,
   "id": "64f9895a-54df-478b-8b00-9ff68fbf3f80",
   "metadata": {},
   "outputs": [
    {
     "data": {
      "text/plain": [
       "array([ 0,  1,  2,  3,  4,  5,  6,  7,  8,  9, 10, 11, 12, 13, 14, 15, 16,\n",
       "       17, 18, 19, 20, 21, 22, 23, 24, 25, 26, 27, 28, 29])"
      ]
     },
     "execution_count": 31,
     "metadata": {},
     "output_type": "execute_result"
    }
   ],
   "source": [
    "np.arange(30).reshape([3, 10]).flatten()"
   ]
  },
  {
   "cell_type": "code",
   "execution_count": 33,
   "id": "c534c186-2712-4da6-b9a0-6d4fe3362e53",
   "metadata": {},
   "outputs": [
    {
     "ename": "ValueError",
     "evalue": "cannot reshape array of size 30 into shape (4,10)",
     "output_type": "error",
     "traceback": [
      "\u001b[1;31m-----------------------------------------------------------\u001b[0m",
      "\u001b[1;31mValueError\u001b[0m                Traceback (most recent call last)",
      "Cell \u001b[1;32mIn[33], line 1\u001b[0m\n\u001b[1;32m----> 1\u001b[0m \u001b[43mnp\u001b[49m\u001b[38;5;241;43m.\u001b[39;49m\u001b[43marange\u001b[49m\u001b[43m(\u001b[49m\u001b[38;5;241;43m30\u001b[39;49m\u001b[43m)\u001b[49m\u001b[38;5;241;43m.\u001b[39;49m\u001b[43mreshape\u001b[49m\u001b[43m(\u001b[49m\u001b[43m[\u001b[49m\u001b[38;5;241;43m4\u001b[39;49m\u001b[43m,\u001b[49m\u001b[43m \u001b[49m\u001b[38;5;241;43m10\u001b[39;49m\u001b[43m]\u001b[49m\u001b[43m)\u001b[49m\u001b[38;5;241m.\u001b[39mflatten()\n",
      "\u001b[1;31mValueError\u001b[0m: cannot reshape array of size 30 into shape (4,10)"
     ]
    }
   ],
   "source": [
    "np.arange(30).reshape([4, 10]).flatten()"
   ]
  },
  {
   "cell_type": "code",
   "execution_count": null,
   "id": "821f6616-1039-4549-92d8-e45f48a9a7d8",
   "metadata": {},
   "outputs": [],
   "source": []
  }
 ],
 "metadata": {
  "kernelspec": {
   "display_name": "Python 3 (ipykernel)",
   "language": "python",
   "name": "python3"
  },
  "language_info": {
   "codemirror_mode": {
    "name": "ipython",
    "version": 3
   },
   "file_extension": ".py",
   "mimetype": "text/x-python",
   "name": "python",
   "nbconvert_exporter": "python",
   "pygments_lexer": "ipython3",
   "version": "3.12.4"
  }
 },
 "nbformat": 4,
 "nbformat_minor": 5
}

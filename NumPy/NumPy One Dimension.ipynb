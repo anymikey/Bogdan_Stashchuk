{
 "cells": [
  {
   "cell_type": "code",
   "execution_count": 2,
   "id": "61677799-a2b2-4caa-bda9-1062a108f687",
   "metadata": {},
   "outputs": [],
   "source": [
    "import numpy as np"
   ]
  },
  {
   "cell_type": "code",
   "execution_count": 6,
   "id": "8e51a48d-296c-472a-8321-8fc0cfbef004",
   "metadata": {},
   "outputs": [
    {
     "data": {
      "text/plain": [
       "array([1, 2, 3, 4])"
      ]
     },
     "execution_count": 6,
     "metadata": {},
     "output_type": "execute_result"
    }
   ],
   "source": [
    "nums_array = np.array([1, 2, 3, 4])\n",
    "nums_array"
   ]
  },
  {
   "cell_type": "code",
   "execution_count": 7,
   "id": "19072ac7-a97a-46c4-a843-f03bc572977e",
   "metadata": {},
   "outputs": [
    {
     "data": {
      "text/plain": [
       "numpy.ndarray"
      ]
     },
     "execution_count": 7,
     "metadata": {},
     "output_type": "execute_result"
    }
   ],
   "source": [
    "type(nums_array)"
   ]
  },
  {
   "cell_type": "code",
   "execution_count": 31,
   "id": "4cc058df-40f6-4d27-8950-ced879c30769",
   "metadata": {},
   "outputs": [
    {
     "data": {
      "text/plain": [
       "4"
      ]
     },
     "execution_count": 31,
     "metadata": {},
     "output_type": "execute_result"
    }
   ],
   "source": [
    "nums_array[-1].item()"
   ]
  },
  {
   "cell_type": "code",
   "execution_count": 14,
   "id": "272bc76b-cc07-4c3d-b494-bf4e8a7e2c81",
   "metadata": {},
   "outputs": [
    {
     "data": {
      "text/plain": [
       "(4,)"
      ]
     },
     "execution_count": 14,
     "metadata": {},
     "output_type": "execute_result"
    }
   ],
   "source": [
    "nums_array.shape"
   ]
  },
  {
   "cell_type": "code",
   "execution_count": 15,
   "id": "88a9362c-4605-4703-80d3-bf091bdd2e71",
   "metadata": {},
   "outputs": [
    {
     "data": {
      "text/plain": [
       "1"
      ]
     },
     "execution_count": 15,
     "metadata": {},
     "output_type": "execute_result"
    }
   ],
   "source": [
    "nums_array.ndim"
   ]
  },
  {
   "cell_type": "code",
   "execution_count": 16,
   "id": "f2088ee0-95f4-4688-8677-830c35a328d9",
   "metadata": {},
   "outputs": [
    {
     "data": {
      "text/plain": [
       "4"
      ]
     },
     "execution_count": 16,
     "metadata": {},
     "output_type": "execute_result"
    }
   ],
   "source": [
    "nums_array.size"
   ]
  },
  {
   "cell_type": "code",
   "execution_count": 17,
   "id": "21567e92-43d4-48ec-a772-882e6f261994",
   "metadata": {},
   "outputs": [
    {
     "data": {
      "text/plain": [
       "dtype('int64')"
      ]
     },
     "execution_count": 17,
     "metadata": {},
     "output_type": "execute_result"
    }
   ],
   "source": [
    "nums_array.dtype"
   ]
  },
  {
   "cell_type": "code",
   "execution_count": 18,
   "id": "1530c60a-2b8b-456c-86da-970f920d8eb1",
   "metadata": {},
   "outputs": [
    {
     "data": {
      "text/plain": [
       "8"
      ]
     },
     "execution_count": 18,
     "metadata": {},
     "output_type": "execute_result"
    }
   ],
   "source": [
    "nums_array.itemsize"
   ]
  },
  {
   "cell_type": "code",
   "execution_count": 23,
   "id": "d2c75f45-6f6b-451a-a2cd-c7972cdee446",
   "metadata": {},
   "outputs": [
    {
     "data": {
      "text/plain": [
       "array(['True', '10', 'abc', '5.5'], dtype='<U32')"
      ]
     },
     "execution_count": 23,
     "metadata": {},
     "output_type": "execute_result"
    }
   ],
   "source": [
    "str_array = np.array([True, 10, 'abc', 5.5])\n",
    "str_array"
   ]
  },
  {
   "cell_type": "code",
   "execution_count": 21,
   "id": "6f754ab5-3e41-4de7-8bbc-1b40551880b2",
   "metadata": {},
   "outputs": [
    {
     "data": {
      "text/plain": [
       "'str1024'"
      ]
     },
     "execution_count": 21,
     "metadata": {},
     "output_type": "execute_result"
    }
   ],
   "source": [
    "str_array.dtype.name"
   ]
  },
  {
   "cell_type": "code",
   "execution_count": 22,
   "id": "8b9b958f-9822-45ab-b5c8-6ba1fabffbd5",
   "metadata": {},
   "outputs": [
    {
     "data": {
      "text/plain": [
       "128"
      ]
     },
     "execution_count": 22,
     "metadata": {},
     "output_type": "execute_result"
    }
   ],
   "source": [
    "str_array.itemsize"
   ]
  },
  {
   "cell_type": "code",
   "execution_count": 25,
   "id": "6713ecbf-a5a5-4cb9-9842-0dbd3e698b56",
   "metadata": {},
   "outputs": [
    {
     "data": {
      "text/plain": [
       "array([{'city': 'London'}, {'city': 'Boston'}], dtype=object)"
      ]
     },
     "execution_count": 25,
     "metadata": {},
     "output_type": "execute_result"
    }
   ],
   "source": [
    "obj_array = np.array([{'city': 'London'}, {'city': 'Boston'}])\n",
    "obj_array"
   ]
  },
  {
   "cell_type": "code",
   "execution_count": 26,
   "id": "3a6e5c79-dd67-4be5-8b22-185e43f19b13",
   "metadata": {},
   "outputs": [
    {
     "data": {
      "text/plain": [
       "'object'"
      ]
     },
     "execution_count": 26,
     "metadata": {},
     "output_type": "execute_result"
    }
   ],
   "source": [
    "obj_array.dtype.name"
   ]
  },
  {
   "cell_type": "code",
   "execution_count": 27,
   "id": "f3247194-5056-4433-bb8c-00bb548d2367",
   "metadata": {},
   "outputs": [
    {
     "data": {
      "text/plain": [
       "8"
      ]
     },
     "execution_count": 27,
     "metadata": {},
     "output_type": "execute_result"
    }
   ],
   "source": [
    "obj_array.itemsize"
   ]
  },
  {
   "cell_type": "code",
   "execution_count": null,
   "id": "335ffc0c-2083-42fb-9311-55692cd44d91",
   "metadata": {},
   "outputs": [],
   "source": []
  }
 ],
 "metadata": {
  "kernelspec": {
   "display_name": "Python 3 (ipykernel)",
   "language": "python",
   "name": "python3"
  },
  "language_info": {
   "codemirror_mode": {
    "name": "ipython",
    "version": 3
   },
   "file_extension": ".py",
   "mimetype": "text/x-python",
   "name": "python",
   "nbconvert_exporter": "python",
   "pygments_lexer": "ipython3",
   "version": "3.12.4"
  }
 },
 "nbformat": 4,
 "nbformat_minor": 5
}

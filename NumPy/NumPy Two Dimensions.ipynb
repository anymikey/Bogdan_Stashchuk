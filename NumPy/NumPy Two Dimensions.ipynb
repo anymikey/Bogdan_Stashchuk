{
 "cells": [
  {
   "cell_type": "code",
   "execution_count": 1,
   "id": "7fcea962-8e8f-4eac-b0d6-0b39b388d352",
   "metadata": {},
   "outputs": [],
   "source": [
    "import numpy as np"
   ]
  },
  {
   "cell_type": "code",
   "execution_count": 3,
   "id": "599b16aa-6c34-4b65-9963-554d8c70d89f",
   "metadata": {},
   "outputs": [
    {
     "data": {
      "text/plain": [
       "array([[1, 2, 3],\n",
       "       [4, 5, 6]])"
      ]
     },
     "execution_count": 3,
     "metadata": {},
     "output_type": "execute_result"
    }
   ],
   "source": [
    "first = np.array([[1, 2, 3], [4, 5, 6]])\n",
    "first"
   ]
  },
  {
   "cell_type": "code",
   "execution_count": 4,
   "id": "d80cbccb-42b2-42b5-9a3f-18a96c5e8c65",
   "metadata": {},
   "outputs": [
    {
     "data": {
      "text/plain": [
       "(2, 3)"
      ]
     },
     "execution_count": 4,
     "metadata": {},
     "output_type": "execute_result"
    }
   ],
   "source": [
    "first.shape"
   ]
  },
  {
   "cell_type": "code",
   "execution_count": 5,
   "id": "66eea2bb-0555-43b3-90a4-b4f0de6bc4a0",
   "metadata": {},
   "outputs": [
    {
     "data": {
      "text/plain": [
       "2"
      ]
     },
     "execution_count": 5,
     "metadata": {},
     "output_type": "execute_result"
    }
   ],
   "source": [
    "first.ndim"
   ]
  },
  {
   "cell_type": "code",
   "execution_count": 6,
   "id": "e4a16936-fef0-4dec-aac6-1d2c7f94eb3e",
   "metadata": {},
   "outputs": [
    {
     "data": {
      "text/plain": [
       "array([[ 7,  8,  9],\n",
       "       [10, 11, 12]])"
      ]
     },
     "execution_count": 6,
     "metadata": {},
     "output_type": "execute_result"
    }
   ],
   "source": [
    "second = np.array([[7, 8, 9], [10, 11, 12]])\n",
    "second"
   ]
  },
  {
   "cell_type": "code",
   "execution_count": 7,
   "id": "a3c64f89-1919-47e6-b1dd-c3615f45eefa",
   "metadata": {},
   "outputs": [
    {
     "data": {
      "text/plain": [
       "(2, 3)"
      ]
     },
     "execution_count": 7,
     "metadata": {},
     "output_type": "execute_result"
    }
   ],
   "source": [
    "second.shape"
   ]
  },
  {
   "cell_type": "code",
   "execution_count": 8,
   "id": "9e7dba3f-14c2-412d-bb90-4f9bf6d8ee38",
   "metadata": {},
   "outputs": [
    {
     "data": {
      "text/plain": [
       "array([[ 8, 10, 12],\n",
       "       [14, 16, 18]])"
      ]
     },
     "execution_count": 8,
     "metadata": {},
     "output_type": "execute_result"
    }
   ],
   "source": [
    "first + second"
   ]
  },
  {
   "cell_type": "code",
   "execution_count": 9,
   "id": "640d7d05-2968-41ce-b8f2-e61fefea09e8",
   "metadata": {},
   "outputs": [
    {
     "data": {
      "text/plain": [
       "(2, 3)"
      ]
     },
     "execution_count": 9,
     "metadata": {},
     "output_type": "execute_result"
    }
   ],
   "source": [
    "(first+second).shape"
   ]
  },
  {
   "cell_type": "code",
   "execution_count": 10,
   "id": "02ed7557-c389-47a2-9786-2ff09cb1a15b",
   "metadata": {},
   "outputs": [
    {
     "data": {
      "text/plain": [
       "array([[2, 3, 4],\n",
       "       [5, 6, 7]])"
      ]
     },
     "execution_count": 10,
     "metadata": {},
     "output_type": "execute_result"
    }
   ],
   "source": [
    "first + 1"
   ]
  },
  {
   "cell_type": "code",
   "execution_count": 11,
   "id": "1cfefc70-fc41-4c17-a9e5-9f3f3bcf8f8b",
   "metadata": {},
   "outputs": [
    {
     "data": {
      "text/plain": [
       "array([[ 2,  4,  6],\n",
       "       [ 8, 10, 12]])"
      ]
     },
     "execution_count": 11,
     "metadata": {},
     "output_type": "execute_result"
    }
   ],
   "source": [
    "first * 2"
   ]
  },
  {
   "cell_type": "code",
   "execution_count": 12,
   "id": "1bc18026-653a-45b3-bcfa-5ee9799e4a90",
   "metadata": {},
   "outputs": [
    {
     "data": {
      "text/plain": [
       "array([[0.33333333, 0.66666667, 1.        ],\n",
       "       [1.33333333, 1.66666667, 2.        ]])"
      ]
     },
     "execution_count": 12,
     "metadata": {},
     "output_type": "execute_result"
    }
   ],
   "source": [
    "first / 3"
   ]
  },
  {
   "cell_type": "code",
   "execution_count": 13,
   "id": "b161c0ea-d92d-4218-8602-849ed3ed3cff",
   "metadata": {},
   "outputs": [
    {
     "data": {
      "text/plain": [
       "array([[-1,  0,  1],\n",
       "       [ 2,  3,  4]])"
      ]
     },
     "execution_count": 13,
     "metadata": {},
     "output_type": "execute_result"
    }
   ],
   "source": [
    "first - 2"
   ]
  },
  {
   "cell_type": "code",
   "execution_count": 19,
   "id": "f2a7ba34-ad23-481e-9425-90779ed16627",
   "metadata": {},
   "outputs": [
    {
     "data": {
      "text/plain": [
       "np.int64(5)"
      ]
     },
     "execution_count": 19,
     "metadata": {},
     "output_type": "execute_result"
    }
   ],
   "source": [
    "first[1, 1]"
   ]
  },
  {
   "cell_type": "code",
   "execution_count": 31,
   "id": "7f7f6555-0e23-4d6f-a3a8-ca5767b49f1c",
   "metadata": {},
   "outputs": [
    {
     "data": {
      "text/plain": [
       "array([[ 1,  2,  3,  7,  8,  9],\n",
       "       [ 4,  5,  6, 10, 11, 12]])"
      ]
     },
     "execution_count": 31,
     "metadata": {},
     "output_type": "execute_result"
    }
   ],
   "source": [
    "third = np.concatenate((first, second), axis=1)\n",
    "third"
   ]
  },
  {
   "cell_type": "code",
   "execution_count": 34,
   "id": "f2272219-6e70-49e6-a076-376d6e755f05",
   "metadata": {},
   "outputs": [
    {
     "data": {
      "text/plain": [
       "11"
      ]
     },
     "execution_count": 34,
     "metadata": {},
     "output_type": "execute_result"
    }
   ],
   "source": [
    "third[1, 4].item()"
   ]
  },
  {
   "cell_type": "code",
   "execution_count": 36,
   "id": "47ba6afd-ed06-427e-912d-e20022357870",
   "metadata": {},
   "outputs": [
    {
     "data": {
      "text/plain": [
       "array([1, 2, 3, 4, 5, 6, 7, 8])"
      ]
     },
     "execution_count": 36,
     "metadata": {},
     "output_type": "execute_result"
    }
   ],
   "source": [
    "np.concatenate((np.array([1, 2, 3, 4]), np.array([5, 6, 7, 8])))"
   ]
  },
  {
   "cell_type": "code",
   "execution_count": 39,
   "id": "eb85e365-47ff-4b37-b5ae-8d47d876d3a9",
   "metadata": {},
   "outputs": [
    {
     "data": {
      "text/plain": [
       "array([1, 2, 3, 4, 5, 6, 7, 8])"
      ]
     },
     "execution_count": 39,
     "metadata": {},
     "output_type": "execute_result"
    }
   ],
   "source": [
    "np.concatenate((np.array([1, 2, 3, 4]), np.array([5, 6, 7, 8])))"
   ]
  },
  {
   "cell_type": "code",
   "execution_count": null,
   "id": "defe8a02-2f2c-43c6-b295-da18ed228d95",
   "metadata": {},
   "outputs": [],
   "source": []
  }
 ],
 "metadata": {
  "kernelspec": {
   "display_name": "Python 3 (ipykernel)",
   "language": "python",
   "name": "python3"
  },
  "language_info": {
   "codemirror_mode": {
    "name": "ipython",
    "version": 3
   },
   "file_extension": ".py",
   "mimetype": "text/x-python",
   "name": "python",
   "nbconvert_exporter": "python",
   "pygments_lexer": "ipython3",
   "version": "3.12.4"
  }
 },
 "nbformat": 4,
 "nbformat_minor": 5
}

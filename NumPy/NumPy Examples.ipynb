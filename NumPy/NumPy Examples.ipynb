{
 "cells": [
  {
   "cell_type": "code",
   "execution_count": 1,
   "id": "ec3639b6-d34e-4fa5-8f2e-83fa835a227e",
   "metadata": {},
   "outputs": [],
   "source": [
    "import numpy as np"
   ]
  },
  {
   "cell_type": "markdown",
   "id": "531ed50f-87ed-4057-a618-8e6ef12d3e05",
   "metadata": {},
   "source": [
    "## 1. Calculating Total Revenue"
   ]
  },
  {
   "cell_type": "code",
   "execution_count": 3,
   "id": "6ad0c303-8057-4f06-ba84-46e41ca62528",
   "metadata": {},
   "outputs": [
    {
     "data": {
      "text/plain": [
       "array([19.99, 29.99, 14.99,  9.99, 24.99])"
      ]
     },
     "execution_count": 3,
     "metadata": {},
     "output_type": "execute_result"
    }
   ],
   "source": [
    "prices = np.array([19.99, 29.99, 14.99, 9.99, 24.99])\n",
    "prices"
   ]
  },
  {
   "cell_type": "code",
   "execution_count": 4,
   "id": "ad013bb5-21db-4feb-b304-c002e45aef4c",
   "metadata": {},
   "outputs": [
    {
     "data": {
      "text/plain": [
       "array([10,  5,  8, 12,  3])"
      ]
     },
     "execution_count": 4,
     "metadata": {},
     "output_type": "execute_result"
    }
   ],
   "source": [
    "quantities = np.array([10, 5, 8, 12, 3])\n",
    "quantities"
   ]
  },
  {
   "cell_type": "code",
   "execution_count": 5,
   "id": "86f44280-b2cd-4a84-add9-f1a46f378f09",
   "metadata": {},
   "outputs": [
    {
     "data": {
      "text/plain": [
       "array([199.9 , 149.95, 119.92, 119.88,  74.97])"
      ]
     },
     "execution_count": 5,
     "metadata": {},
     "output_type": "execute_result"
    }
   ],
   "source": [
    "revenue_per_product = prices * quantities\n",
    "revenue_per_product"
   ]
  },
  {
   "cell_type": "code",
   "execution_count": 7,
   "id": "4d339dbd-d787-4533-9f3a-a1172dec3f9c",
   "metadata": {},
   "outputs": [
    {
     "data": {
      "text/plain": [
       "664.62"
      ]
     },
     "execution_count": 7,
     "metadata": {},
     "output_type": "execute_result"
    }
   ],
   "source": [
    "total_revenue = np.sum(revenue_per_product).item()\n",
    "total_revenue"
   ]
  },
  {
   "cell_type": "markdown",
   "id": "8839e1a3-6ed5-4712-bbb7-015a842765a0",
   "metadata": {},
   "source": [
    "## 2. Analyzing Block Post Stats"
   ]
  },
  {
   "cell_type": "code",
   "execution_count": 8,
   "id": "697f6925-f377-414b-9da8-356bb813ef91",
   "metadata": {},
   "outputs": [
    {
     "data": {
      "text/plain": [
       "array([1000,  500,  800, 1200,  300,  600])"
      ]
     },
     "execution_count": 8,
     "metadata": {},
     "output_type": "execute_result"
    }
   ],
   "source": [
    "views = np.array((1000, 500, 800, 1200, 300, 600))\n",
    "views"
   ]
  },
  {
   "cell_type": "code",
   "execution_count": 11,
   "id": "1c7b84e1-f028-4b45-966b-2ba21e0e1724",
   "metadata": {},
   "outputs": [
    {
     "data": {
      "text/plain": [
       "np.int64(1200)"
      ]
     },
     "execution_count": 11,
     "metadata": {},
     "output_type": "execute_result"
    }
   ],
   "source": [
    "max_views = np.max(views)\n",
    "max_views"
   ]
  },
  {
   "cell_type": "code",
   "execution_count": 12,
   "id": "1ceedcd5-2ce8-4dca-ad97-d3bcbc5428b2",
   "metadata": {},
   "outputs": [
    {
     "data": {
      "text/plain": [
       "300"
      ]
     },
     "execution_count": 12,
     "metadata": {},
     "output_type": "execute_result"
    }
   ],
   "source": [
    "min_views = np.min(views).item()\n",
    "min_views"
   ]
  },
  {
   "cell_type": "code",
   "execution_count": 32,
   "id": "0720542f-26ea-47e4-8906-ed6c0517ba0a",
   "metadata": {},
   "outputs": [
    {
     "data": {
      "text/plain": [
       "733.33"
      ]
     },
     "execution_count": 32,
     "metadata": {},
     "output_type": "execute_result"
    }
   ],
   "source": [
    "average_views = np.round(np.mean(views), 2).item()\n",
    "average_views"
   ]
  },
  {
   "cell_type": "code",
   "execution_count": 18,
   "id": "183ef773-2e73-46a8-99a2-93c4de1414dc",
   "metadata": {},
   "outputs": [
    {
     "data": {
      "text/plain": [
       "4400"
      ]
     },
     "execution_count": 18,
     "metadata": {},
     "output_type": "execute_result"
    }
   ],
   "source": [
    "total_views = np.sum(views).item()\n",
    "total_views"
   ]
  },
  {
   "cell_type": "markdown",
   "id": "7293fce5-8c75-4e30-b60b-5cd158646a74",
   "metadata": {},
   "source": [
    "## 3. Splitting Order into Batches"
   ]
  },
  {
   "cell_type": "code",
   "execution_count": 28,
   "id": "134f112b-a7f2-44a6-a527-18945e8e5410",
   "metadata": {},
   "outputs": [
    {
     "data": {
      "text/plain": [
       "array([1001, 1002, 1003, 1004, 1005, 1006, 1007, 1008])"
      ]
     },
     "execution_count": 28,
     "metadata": {},
     "output_type": "execute_result"
    }
   ],
   "source": [
    "order_ids = np.array([1001, 1002, 1003, 1004, 1005, 1006, 1007, 1008])\n",
    "order_ids"
   ]
  },
  {
   "cell_type": "code",
   "execution_count": 29,
   "id": "d6a1b62d-cbc1-46d4-b5f1-bc6a59862d1f",
   "metadata": {},
   "outputs": [
    {
     "data": {
      "text/plain": [
       "[array([1001, 1002]),\n",
       " array([1003, 1004]),\n",
       " array([1005, 1006]),\n",
       " array([1007, 1008])]"
      ]
     },
     "execution_count": 29,
     "metadata": {},
     "output_type": "execute_result"
    }
   ],
   "source": [
    "batches = np.split(order_ids, 4)\n",
    "batches"
   ]
  },
  {
   "cell_type": "code",
   "execution_count": 40,
   "id": "e977bcb5-b710-4094-abb6-c1485499c4ed",
   "metadata": {},
   "outputs": [
    {
     "name": "stdout",
     "output_type": "stream",
     "text": [
      "Batch number 0:\n",
      "First element in the batch:  1001\n",
      "Second element in the batch:  1002\n",
      "\n",
      "Batch number 1:\n",
      "First element in the batch:  1003\n",
      "Second element in the batch:  1004\n",
      "\n",
      "Batch number 2:\n",
      "First element in the batch:  1005\n",
      "Second element in the batch:  1006\n",
      "\n",
      "Batch number 3:\n",
      "First element in the batch:  1007\n",
      "Second element in the batch:  1008\n",
      "\n"
     ]
    }
   ],
   "source": [
    "for i, batch in enumerate(batches):\n",
    "    print(f\"Batch number {i}:\")\n",
    "    print(\"First element in the batch: \", batch[0])\n",
    "    print(\"Second element in the batch: \", batch[1])\n",
    "    print('')"
   ]
  },
  {
   "cell_type": "markdown",
   "id": "dcd9277e-d960-4d3b-b4f5-32e8a6925f68",
   "metadata": {},
   "source": [
    "## 4. Categorizing Product Ratings"
   ]
  },
  {
   "cell_type": "code",
   "execution_count": 41,
   "id": "9355b51f-54e8-4bf1-a05f-d1c0c9ffdd56",
   "metadata": {},
   "outputs": [
    {
     "data": {
      "text/plain": [
       "array([4.5, 3.2, 2.8, 5. , 4.1, 3.9, 2.5, 4.7])"
      ]
     },
     "execution_count": 41,
     "metadata": {},
     "output_type": "execute_result"
    }
   ],
   "source": [
    "ratings = np.array([4.5, 3.2, 2.8, 5.0, 4.1, 3.9, 2.5, 4.7])\n",
    "ratings"
   ]
  },
  {
   "cell_type": "code",
   "execution_count": 42,
   "id": "7fbf5866-f2bc-4c27-9df5-8f7050adba14",
   "metadata": {},
   "outputs": [
    {
     "data": {
      "text/plain": [
       "array([4.5, 5. , 4.1, 4.7])"
      ]
     },
     "execution_count": 42,
     "metadata": {},
     "output_type": "execute_result"
    }
   ],
   "source": [
    "positive_ratings = ratings[ratings >= 4.0]\n",
    "positive_ratings"
   ]
  },
  {
   "cell_type": "code",
   "execution_count": 43,
   "id": "5c16693f-c978-42bc-8142-f0fe40f83f99",
   "metadata": {},
   "outputs": [
    {
     "data": {
      "text/plain": [
       "array([3.2, 2.8, 3.9, 2.5])"
      ]
     },
     "execution_count": 43,
     "metadata": {},
     "output_type": "execute_result"
    }
   ],
   "source": [
    "negative_ratings = ratings[ratings < 4.0]\n",
    "negative_ratings"
   ]
  },
  {
   "cell_type": "markdown",
   "id": "d8635f00-5a17-4368-bcf3-3b2d445bbd38",
   "metadata": {},
   "source": [
    "## Calculate Total and Average quantities sold"
   ]
  },
  {
   "cell_type": "code",
   "execution_count": 48,
   "id": "547c208b-a2ec-481b-86f3-de8cdd95e727",
   "metadata": {},
   "outputs": [
    {
     "data": {
      "text/plain": [
       "array([[ 5,  3,  2,  7],\n",
       "       [10,  6,  3,  9]])"
      ]
     },
     "execution_count": 48,
     "metadata": {},
     "output_type": "execute_result"
    }
   ],
   "source": [
    "# Кожна колонка - це специфічний продукт\n",
    "# Кожен ряд - це специфічне замовлення\n",
    "# Перший товар купили 5 разів в 1 замовленні і 10 разів в 2 замовленні\n",
    "order_quantities = np.array(([5, 3, 2, 7], [10, 6, 3, 9]))\n",
    "order_quantities"
   ]
  },
  {
   "cell_type": "code",
   "execution_count": 56,
   "id": "bec09b2e-7750-4995-aaac-1c017fdf6869",
   "metadata": {},
   "outputs": [
    {
     "data": {
      "text/plain": [
       "array([15,  9,  5, 16])"
      ]
     },
     "execution_count": 56,
     "metadata": {},
     "output_type": "execute_result"
    }
   ],
   "source": [
    "# Кількість продажів на продукт\n",
    "total_quantities_sold = np.sum(order_quantities, axis=0)\n",
    "total_quantities_sold"
   ]
  },
  {
   "cell_type": "code",
   "execution_count": 59,
   "id": "b079cf57-53d3-432a-8cf4-08c559065855",
   "metadata": {},
   "outputs": [
    {
     "data": {
      "text/plain": [
       "array([17, 28])"
      ]
     },
     "execution_count": 59,
     "metadata": {},
     "output_type": "execute_result"
    }
   ],
   "source": [
    "# Кількість продажів на замовлення\n",
    "total_products_per_order = np.sum(order_quantities, axis=1)\n",
    "total_products_per_order"
   ]
  },
  {
   "cell_type": "code",
   "execution_count": 62,
   "id": "b7d51c92-9ff1-464c-a5e5-68fb7da356dc",
   "metadata": {},
   "outputs": [
    {
     "data": {
      "text/plain": [
       "array([7.5, 4.5, 2.5, 8. ])"
      ]
     },
     "execution_count": 62,
     "metadata": {},
     "output_type": "execute_result"
    }
   ],
   "source": [
    "# Середня кількість на продукт по усім замовленням\n",
    "average_quantities_sold = np.mean(order_quantities, axis=0)\n",
    "average_quantities_sold"
   ]
  },
  {
   "cell_type": "markdown",
   "id": "e5217612-7ca8-4b3c-9757-f6391c216594",
   "metadata": {},
   "source": [
    "## 6. Calculate Average Product Rating and Maximum Rating per Category"
   ]
  },
  {
   "cell_type": "code",
   "execution_count": 65,
   "id": "3dd092ab-13ab-4770-9da8-a37cfbe3c661",
   "metadata": {},
   "outputs": [
    {
     "data": {
      "text/plain": [
       "array([[4.5, 3.2, 2.5, 5. ],\n",
       "       [4.3, 3.8, 1. , 4.8],\n",
       "       [2. , 3.6, 4.7, 0.5]])"
      ]
     },
     "execution_count": 65,
     "metadata": {},
     "output_type": "execute_result"
    }
   ],
   "source": [
    "# Кожен ряд - це один продукт\n",
    "# Кожен продукт оцінюється в 4 категоріях\n",
    "product_ratings = np.array([\n",
    "    [4.5, 3.2, 2.5, 5.0],\n",
    "    [4.3, 3.8, 1.0, 4.8],\n",
    "    [2.0, 3.6, 4.7, 0.5]\n",
    "])\n",
    "product_ratings"
   ]
  },
  {
   "cell_type": "code",
   "execution_count": 77,
   "id": "5836d421-394a-4466-b5f2-aa4f8664a8d1",
   "metadata": {},
   "outputs": [
    {
     "data": {
      "text/plain": [
       "array([3.6, 3.5, 2.7, 3.4])"
      ]
     },
     "execution_count": 77,
     "metadata": {},
     "output_type": "execute_result"
    }
   ],
   "source": [
    "# Середній рейтинг в кожній категорії, округлив до 1 знаку після коми\n",
    "average_rating_per_category = np.mean(product_ratings, axis=0).round(1)\n",
    "average_rating_per_category"
   ]
  },
  {
   "cell_type": "code",
   "execution_count": 78,
   "id": "8c51eaa7-effa-4eec-9950-23ad43a277be",
   "metadata": {},
   "outputs": [
    {
     "data": {
      "text/plain": [
       "array([3.8, 3.5, 2.7])"
      ]
     },
     "execution_count": 78,
     "metadata": {},
     "output_type": "execute_result"
    }
   ],
   "source": [
    "# Середній рейтинг для кожного продукту, округлив до 1 знаку після коми\n",
    "average_rating_per_product = np.mean(product_ratings, axis=1).round(1)\n",
    "average_rating_per_product"
   ]
  },
  {
   "cell_type": "code",
   "execution_count": 79,
   "id": "5b463dda-377d-4eea-9c1e-8fd8c8872c68",
   "metadata": {},
   "outputs": [
    {
     "data": {
      "text/plain": [
       "array([4.5, 3.8, 4.7, 5. ])"
      ]
     },
     "execution_count": 79,
     "metadata": {},
     "output_type": "execute_result"
    }
   ],
   "source": [
    "# Максимальний рейтинг в кожній категорії, округлив до 1 знаку після коми\n",
    "max_rating_per_category = np.max(product_ratings, axis=0).round(1)\n",
    "max_rating_per_category"
   ]
  },
  {
   "cell_type": "markdown",
   "id": "533568fd-3a3a-42ad-abf6-7ed7bbfbc4c7",
   "metadata": {},
   "source": [
    "## 7. Generation of the sample stock data"
   ]
  },
  {
   "cell_type": "code",
   "execution_count": 91,
   "id": "68ed85f5-2d1f-4781-bb47-9144efa54229",
   "metadata": {},
   "outputs": [],
   "source": [
    "companies = ['Google', 'Microsoft', 'Apple']\n",
    "days = ['Mon 1 April', 'Tue 2 April']\n",
    "price_types = ['Open 1', 'Close 1', 'Open 2', 'Close 2']"
   ]
  },
  {
   "cell_type": "code",
   "execution_count": 92,
   "id": "9f526517-bcba-419b-b81c-edf0b9da6f0e",
   "metadata": {},
   "outputs": [
    {
     "data": {
      "text/plain": [
       "array([[[0.417, 0.72 , 0.   , 0.302],\n",
       "        [0.147, 0.092, 0.186, 0.346]],\n",
       "\n",
       "       [[0.397, 0.539, 0.419, 0.685],\n",
       "        [0.204, 0.878, 0.027, 0.67 ]],\n",
       "\n",
       "       [[0.417, 0.559, 0.14 , 0.198],\n",
       "        [0.801, 0.968, 0.313, 0.692]]])"
      ]
     },
     "execution_count": 92,
     "metadata": {},
     "output_type": "execute_result"
    }
   ],
   "source": [
    "# Форма буде (3, 2, 4)\n",
    "np.random.seed(1)\n",
    "stock_prices = np.round(np.random.random((len(companies), len(days), len(price_types))), 3)\n",
    "stock_prices"
   ]
  },
  {
   "cell_type": "code",
   "execution_count": 86,
   "id": "11bee21e-b071-4ea9-b95f-5b5d823c0b87",
   "metadata": {},
   "outputs": [
    {
     "data": {
      "text/plain": [
       "(3, 2, 4)"
      ]
     },
     "execution_count": 86,
     "metadata": {},
     "output_type": "execute_result"
    }
   ],
   "source": [
    "stock_prices.shape"
   ]
  },
  {
   "cell_type": "code",
   "execution_count": 93,
   "id": "362df385-4a7e-4910-9b4f-a392802c1fe8",
   "metadata": {},
   "outputs": [
    {
     "name": "stdout",
     "output_type": "stream",
     "text": [
      "Stock prices for Google:\n",
      "Day: Mon 1 April\n",
      "Open 1 Price: 0.417\n",
      "Close 1 Price: 0.72\n",
      "Open 2 Price: 0.0\n",
      "Close 2 Price: 0.302\n",
      "\n",
      "Day: Tue 2 April\n",
      "Open 1 Price: 0.147\n",
      "Close 1 Price: 0.092\n",
      "Open 2 Price: 0.186\n",
      "Close 2 Price: 0.346\n",
      "\n",
      "\n",
      "Stock prices for Microsoft:\n",
      "Day: Mon 1 April\n",
      "Open 1 Price: 0.397\n",
      "Close 1 Price: 0.539\n",
      "Open 2 Price: 0.419\n",
      "Close 2 Price: 0.685\n",
      "\n",
      "Day: Tue 2 April\n",
      "Open 1 Price: 0.204\n",
      "Close 1 Price: 0.878\n",
      "Open 2 Price: 0.027\n",
      "Close 2 Price: 0.67\n",
      "\n",
      "\n",
      "Stock prices for Apple:\n",
      "Day: Mon 1 April\n",
      "Open 1 Price: 0.417\n",
      "Close 1 Price: 0.559\n",
      "Open 2 Price: 0.14\n",
      "Close 2 Price: 0.198\n",
      "\n",
      "Day: Tue 2 April\n",
      "Open 1 Price: 0.801\n",
      "Close 1 Price: 0.968\n",
      "Open 2 Price: 0.313\n",
      "Close 2 Price: 0.692\n",
      "\n",
      "\n"
     ]
    }
   ],
   "source": [
    "for index_axis_0, company in enumerate(companies):\n",
    "    print(f\"Stock prices for {company}:\")\n",
    "    for index_axis_1, day in enumerate(days):\n",
    "        print(f\"Day: {day}\")\n",
    "        for index_axis_2, price_type in enumerate(price_types):\n",
    "            print(f\"{price_type} Price: {stock_prices[index_axis_0, index_axis_1, index_axis_2]}\")\n",
    "        print('')\n",
    "    print('')"
   ]
  },
  {
   "cell_type": "code",
   "execution_count": null,
   "id": "e9274de7-647e-485d-8939-01908006d707",
   "metadata": {},
   "outputs": [],
   "source": []
  }
 ],
 "metadata": {
  "kernelspec": {
   "display_name": "Python 3 (ipykernel)",
   "language": "python",
   "name": "python3"
  },
  "language_info": {
   "codemirror_mode": {
    "name": "ipython",
    "version": 3
   },
   "file_extension": ".py",
   "mimetype": "text/x-python",
   "name": "python",
   "nbconvert_exporter": "python",
   "pygments_lexer": "ipython3",
   "version": "3.12.4"
  }
 },
 "nbformat": 4,
 "nbformat_minor": 5
}

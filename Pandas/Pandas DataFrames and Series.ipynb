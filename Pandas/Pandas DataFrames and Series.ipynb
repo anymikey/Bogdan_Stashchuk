{
 "cells": [
  {
   "cell_type": "code",
   "execution_count": 106,
   "id": "106ba804-3a36-4574-8029-2166286750ed",
   "metadata": {},
   "outputs": [],
   "source": [
    "import pandas as pd\n",
    "import numpy as np"
   ]
  },
  {
   "cell_type": "markdown",
   "id": "977dce7b-e623-456e-ae02-c835f3d4400f",
   "metadata": {},
   "source": [
    "## Data Frames"
   ]
  },
  {
   "cell_type": "code",
   "execution_count": 107,
   "id": "6eafda28-a16c-48b3-8e52-97472a3fc082",
   "metadata": {},
   "outputs": [
    {
     "data": {
      "text/html": [
       "<div>\n",
       "<style scoped>\n",
       "    .dataframe tbody tr th:only-of-type {\n",
       "        vertical-align: middle;\n",
       "    }\n",
       "\n",
       "    .dataframe tbody tr th {\n",
       "        vertical-align: top;\n",
       "    }\n",
       "\n",
       "    .dataframe thead th {\n",
       "        text-align: right;\n",
       "    }\n",
       "</style>\n",
       "<table border=\"1\" class=\"dataframe\">\n",
       "  <thead>\n",
       "    <tr style=\"text-align: right;\">\n",
       "      <th></th>\n",
       "      <th>User ID</th>\n",
       "      <th>Username</th>\n",
       "      <th>Age</th>\n",
       "      <th>Joined Date</th>\n",
       "      <th>Total Posts</th>\n",
       "      <th>Reputation</th>\n",
       "    </tr>\n",
       "  </thead>\n",
       "  <tbody>\n",
       "    <tr>\n",
       "      <th>0</th>\n",
       "      <td>1</td>\n",
       "      <td>nicky_a</td>\n",
       "      <td>18.0</td>\n",
       "      <td>2032-01-01</td>\n",
       "      <td>150</td>\n",
       "      <td>500</td>\n",
       "    </tr>\n",
       "    <tr>\n",
       "      <th>1</th>\n",
       "      <td>2</td>\n",
       "      <td>mike_sky</td>\n",
       "      <td>35.0</td>\n",
       "      <td>2032-02-15</td>\n",
       "      <td>230</td>\n",
       "      <td>720</td>\n",
       "    </tr>\n",
       "    <tr>\n",
       "      <th>2</th>\n",
       "      <td>3</td>\n",
       "      <td>anymike</td>\n",
       "      <td>25.0</td>\n",
       "      <td>2032-04-25</td>\n",
       "      <td>80</td>\n",
       "      <td>200</td>\n",
       "    </tr>\n",
       "    <tr>\n",
       "      <th>3</th>\n",
       "      <td>4</td>\n",
       "      <td>mcast</td>\n",
       "      <td>38.0</td>\n",
       "      <td>2032-06-21</td>\n",
       "      <td>420</td>\n",
       "      <td>940</td>\n",
       "    </tr>\n",
       "    <tr>\n",
       "      <th>4</th>\n",
       "      <td>5</td>\n",
       "      <td>charlie</td>\n",
       "      <td>NaN</td>\n",
       "      <td>2032-09-15</td>\n",
       "      <td>310</td>\n",
       "      <td>500</td>\n",
       "    </tr>\n",
       "  </tbody>\n",
       "</table>\n",
       "</div>"
      ],
      "text/plain": [
       "   User ID  Username   Age Joined Date  Total Posts  Reputation\n",
       "0        1   nicky_a  18.0  2032-01-01          150         500\n",
       "1        2  mike_sky  35.0  2032-02-15          230         720\n",
       "2        3   anymike  25.0  2032-04-25           80         200\n",
       "3        4     mcast  38.0  2032-06-21          420         940\n",
       "4        5   charlie   NaN  2032-09-15          310         500"
      ]
     },
     "execution_count": 107,
     "metadata": {},
     "output_type": "execute_result"
    }
   ],
   "source": [
    "forum_users = {\n",
    "    'User ID': np.array([1, 2, 3, 4, 5]),\n",
    "    'Username': ['nicky_a', 'mike_sky', 'anymike', 'mcast', 'charlie'],\n",
    "    'Age': [18, 35, 25, 38, None],\n",
    "    'Joined Date': pd.to_datetime(['2032-01-01', '2032-02-15', '2032-04-25', '2032-06-21', '2032-09-15']),\n",
    "    'Total Posts': [150, 230, 80, 420, 310],\n",
    "    'Reputation': [500, 720, 200, 940, 500]\n",
    "}\n",
    "\n",
    "df = pd.DataFrame(forum_users)\n",
    "df"
   ]
  },
  {
   "cell_type": "code",
   "execution_count": 108,
   "id": "b87fdf2f-5ad6-4161-b794-53aaf4dee2c1",
   "metadata": {},
   "outputs": [
    {
     "data": {
      "text/plain": [
       "(5, 6)"
      ]
     },
     "execution_count": 108,
     "metadata": {},
     "output_type": "execute_result"
    }
   ],
   "source": [
    "df.shape"
   ]
  },
  {
   "cell_type": "code",
   "execution_count": 109,
   "id": "d3e169b5-c528-4c83-90d9-050e3940ef0c",
   "metadata": {},
   "outputs": [
    {
     "data": {
      "text/plain": [
       "pandas.core.indexes.base.Index"
      ]
     },
     "execution_count": 109,
     "metadata": {},
     "output_type": "execute_result"
    }
   ],
   "source": [
    "type(df.columns)"
   ]
  },
  {
   "cell_type": "code",
   "execution_count": 110,
   "id": "adb00e90-386c-4024-927a-7b68ef874b49",
   "metadata": {},
   "outputs": [
    {
     "data": {
      "text/plain": [
       "Index(['User ID', 'Username', 'Age', 'Joined Date', 'Total Posts',\n",
       "       'Reputation'],\n",
       "      dtype='object')"
      ]
     },
     "execution_count": 110,
     "metadata": {},
     "output_type": "execute_result"
    }
   ],
   "source": [
    "df.columns"
   ]
  },
  {
   "cell_type": "code",
   "execution_count": 111,
   "id": "ac41e45f-ef76-4556-8cb9-26d9e4d3dfb1",
   "metadata": {},
   "outputs": [
    {
     "data": {
      "text/plain": [
       "['User ID', 'Username', 'Age', 'Joined Date', 'Total Posts', 'Reputation']"
      ]
     },
     "execution_count": 111,
     "metadata": {},
     "output_type": "execute_result"
    }
   ],
   "source": [
    "df.columns.tolist()"
   ]
  },
  {
   "cell_type": "code",
   "execution_count": 112,
   "id": "2a092061-ee65-4136-bf32-7b31da9070c4",
   "metadata": {},
   "outputs": [
    {
     "data": {
      "text/plain": [
       "RangeIndex(start=0, stop=5, step=1)"
      ]
     },
     "execution_count": 112,
     "metadata": {},
     "output_type": "execute_result"
    }
   ],
   "source": [
    "df.index"
   ]
  },
  {
   "cell_type": "code",
   "execution_count": 113,
   "id": "1fb19c1a-1bba-4ff9-af15-7b3da947f542",
   "metadata": {},
   "outputs": [
    {
     "data": {
      "text/plain": [
       "[0, 1, 2, 3, 4]"
      ]
     },
     "execution_count": 113,
     "metadata": {},
     "output_type": "execute_result"
    }
   ],
   "source": [
    "df.index.tolist()"
   ]
  },
  {
   "cell_type": "code",
   "execution_count": 114,
   "id": "f1f29b41-ac5c-4354-b3e6-a420d8eafbc8",
   "metadata": {},
   "outputs": [
    {
     "data": {
      "text/plain": [
       "User ID                 int64\n",
       "Username               object\n",
       "Age                   float64\n",
       "Joined Date    datetime64[ns]\n",
       "Total Posts             int64\n",
       "Reputation              int64\n",
       "dtype: object"
      ]
     },
     "execution_count": 114,
     "metadata": {},
     "output_type": "execute_result"
    }
   ],
   "source": [
    "df.dtypes"
   ]
  },
  {
   "cell_type": "code",
   "execution_count": 115,
   "id": "6deba0b5-f433-437c-a7a6-6595d0d5612c",
   "metadata": {},
   "outputs": [
    {
     "data": {
      "text/plain": [
       "array([[1, 'nicky_a', 18.0, Timestamp('2032-01-01 00:00:00'), 150, 500],\n",
       "       [2, 'mike_sky', 35.0, Timestamp('2032-02-15 00:00:00'), 230, 720],\n",
       "       [3, 'anymike', 25.0, Timestamp('2032-04-25 00:00:00'), 80, 200],\n",
       "       [4, 'mcast', 38.0, Timestamp('2032-06-21 00:00:00'), 420, 940],\n",
       "       [5, 'charlie', nan, Timestamp('2032-09-15 00:00:00'), 310, 500]],\n",
       "      dtype=object)"
      ]
     },
     "execution_count": 115,
     "metadata": {},
     "output_type": "execute_result"
    }
   ],
   "source": [
    "df.values"
   ]
  },
  {
   "cell_type": "code",
   "execution_count": 116,
   "id": "e5f9ae98-f07e-496b-b09d-3419b7fcafa9",
   "metadata": {},
   "outputs": [
    {
     "data": {
      "text/plain": [
       "numpy.ndarray"
      ]
     },
     "execution_count": 116,
     "metadata": {},
     "output_type": "execute_result"
    }
   ],
   "source": [
    "type(df.values)"
   ]
  },
  {
   "cell_type": "code",
   "execution_count": 117,
   "id": "dd98c67c-0b87-4b57-95da-728339ef5bc4",
   "metadata": {},
   "outputs": [
    {
     "data": {
      "text/plain": [
       "'mike_sky'"
      ]
     },
     "execution_count": 117,
     "metadata": {},
     "output_type": "execute_result"
    }
   ],
   "source": [
    "df.values[1, 1]"
   ]
  },
  {
   "cell_type": "code",
   "execution_count": 118,
   "id": "e59d0839-7f32-4fcb-a06d-1862096fd6fb",
   "metadata": {},
   "outputs": [
    {
     "data": {
      "text/html": [
       "<div>\n",
       "<style scoped>\n",
       "    .dataframe tbody tr th:only-of-type {\n",
       "        vertical-align: middle;\n",
       "    }\n",
       "\n",
       "    .dataframe tbody tr th {\n",
       "        vertical-align: top;\n",
       "    }\n",
       "\n",
       "    .dataframe thead th {\n",
       "        text-align: right;\n",
       "    }\n",
       "</style>\n",
       "<table border=\"1\" class=\"dataframe\">\n",
       "  <thead>\n",
       "    <tr style=\"text-align: right;\">\n",
       "      <th></th>\n",
       "      <th>User ID</th>\n",
       "      <th>Username</th>\n",
       "      <th>Age</th>\n",
       "      <th>Joined Date</th>\n",
       "      <th>Total Posts</th>\n",
       "      <th>Reputation</th>\n",
       "    </tr>\n",
       "  </thead>\n",
       "  <tbody>\n",
       "    <tr>\n",
       "      <th>0</th>\n",
       "      <td>1</td>\n",
       "      <td>nicky_a</td>\n",
       "      <td>18.0</td>\n",
       "      <td>2032-01-01</td>\n",
       "      <td>150</td>\n",
       "      <td>500</td>\n",
       "    </tr>\n",
       "    <tr>\n",
       "      <th>1</th>\n",
       "      <td>2</td>\n",
       "      <td>mike_sky</td>\n",
       "      <td>35.0</td>\n",
       "      <td>2032-02-15</td>\n",
       "      <td>230</td>\n",
       "      <td>720</td>\n",
       "    </tr>\n",
       "    <tr>\n",
       "      <th>2</th>\n",
       "      <td>3</td>\n",
       "      <td>anymike</td>\n",
       "      <td>25.0</td>\n",
       "      <td>2032-04-25</td>\n",
       "      <td>80</td>\n",
       "      <td>200</td>\n",
       "    </tr>\n",
       "    <tr>\n",
       "      <th>3</th>\n",
       "      <td>4</td>\n",
       "      <td>mcast</td>\n",
       "      <td>38.0</td>\n",
       "      <td>2032-06-21</td>\n",
       "      <td>420</td>\n",
       "      <td>940</td>\n",
       "    </tr>\n",
       "    <tr>\n",
       "      <th>4</th>\n",
       "      <td>5</td>\n",
       "      <td>charlie</td>\n",
       "      <td>NaN</td>\n",
       "      <td>2032-09-15</td>\n",
       "      <td>310</td>\n",
       "      <td>500</td>\n",
       "    </tr>\n",
       "  </tbody>\n",
       "</table>\n",
       "</div>"
      ],
      "text/plain": [
       "   User ID  Username   Age Joined Date  Total Posts  Reputation\n",
       "0        1   nicky_a  18.0  2032-01-01          150         500\n",
       "1        2  mike_sky  35.0  2032-02-15          230         720\n",
       "2        3   anymike  25.0  2032-04-25           80         200\n",
       "3        4     mcast  38.0  2032-06-21          420         940\n",
       "4        5   charlie   NaN  2032-09-15          310         500"
      ]
     },
     "execution_count": 118,
     "metadata": {},
     "output_type": "execute_result"
    }
   ],
   "source": [
    "df.head()"
   ]
  },
  {
   "cell_type": "code",
   "execution_count": 119,
   "id": "57ce960f-ffec-4a0b-a70e-a7519396407a",
   "metadata": {},
   "outputs": [
    {
     "data": {
      "text/html": [
       "<div>\n",
       "<style scoped>\n",
       "    .dataframe tbody tr th:only-of-type {\n",
       "        vertical-align: middle;\n",
       "    }\n",
       "\n",
       "    .dataframe tbody tr th {\n",
       "        vertical-align: top;\n",
       "    }\n",
       "\n",
       "    .dataframe thead th {\n",
       "        text-align: right;\n",
       "    }\n",
       "</style>\n",
       "<table border=\"1\" class=\"dataframe\">\n",
       "  <thead>\n",
       "    <tr style=\"text-align: right;\">\n",
       "      <th></th>\n",
       "      <th>User ID</th>\n",
       "      <th>Username</th>\n",
       "      <th>Age</th>\n",
       "      <th>Joined Date</th>\n",
       "      <th>Total Posts</th>\n",
       "      <th>Reputation</th>\n",
       "    </tr>\n",
       "  </thead>\n",
       "  <tbody>\n",
       "    <tr>\n",
       "      <th>0</th>\n",
       "      <td>1</td>\n",
       "      <td>nicky_a</td>\n",
       "      <td>18.0</td>\n",
       "      <td>2032-01-01</td>\n",
       "      <td>150</td>\n",
       "      <td>500</td>\n",
       "    </tr>\n",
       "    <tr>\n",
       "      <th>1</th>\n",
       "      <td>2</td>\n",
       "      <td>mike_sky</td>\n",
       "      <td>35.0</td>\n",
       "      <td>2032-02-15</td>\n",
       "      <td>230</td>\n",
       "      <td>720</td>\n",
       "    </tr>\n",
       "    <tr>\n",
       "      <th>2</th>\n",
       "      <td>3</td>\n",
       "      <td>anymike</td>\n",
       "      <td>25.0</td>\n",
       "      <td>2032-04-25</td>\n",
       "      <td>80</td>\n",
       "      <td>200</td>\n",
       "    </tr>\n",
       "  </tbody>\n",
       "</table>\n",
       "</div>"
      ],
      "text/plain": [
       "   User ID  Username   Age Joined Date  Total Posts  Reputation\n",
       "0        1   nicky_a  18.0  2032-01-01          150         500\n",
       "1        2  mike_sky  35.0  2032-02-15          230         720\n",
       "2        3   anymike  25.0  2032-04-25           80         200"
      ]
     },
     "execution_count": 119,
     "metadata": {},
     "output_type": "execute_result"
    }
   ],
   "source": [
    "df.head(3)"
   ]
  },
  {
   "cell_type": "code",
   "execution_count": 120,
   "id": "270458ef-20bd-401a-8857-70026685964d",
   "metadata": {},
   "outputs": [
    {
     "data": {
      "text/plain": [
       "pandas.core.frame.DataFrame"
      ]
     },
     "execution_count": 120,
     "metadata": {},
     "output_type": "execute_result"
    }
   ],
   "source": [
    "type(df.head(3))"
   ]
  },
  {
   "cell_type": "code",
   "execution_count": 121,
   "id": "b28f4162-cb1e-4d38-9443-82952658bf48",
   "metadata": {},
   "outputs": [
    {
     "data": {
      "text/html": [
       "<div>\n",
       "<style scoped>\n",
       "    .dataframe tbody tr th:only-of-type {\n",
       "        vertical-align: middle;\n",
       "    }\n",
       "\n",
       "    .dataframe tbody tr th {\n",
       "        vertical-align: top;\n",
       "    }\n",
       "\n",
       "    .dataframe thead th {\n",
       "        text-align: right;\n",
       "    }\n",
       "</style>\n",
       "<table border=\"1\" class=\"dataframe\">\n",
       "  <thead>\n",
       "    <tr style=\"text-align: right;\">\n",
       "      <th></th>\n",
       "      <th>User ID</th>\n",
       "      <th>Username</th>\n",
       "      <th>Age</th>\n",
       "      <th>Joined Date</th>\n",
       "      <th>Total Posts</th>\n",
       "      <th>Reputation</th>\n",
       "    </tr>\n",
       "  </thead>\n",
       "  <tbody>\n",
       "    <tr>\n",
       "      <th>3</th>\n",
       "      <td>4</td>\n",
       "      <td>mcast</td>\n",
       "      <td>38.0</td>\n",
       "      <td>2032-06-21</td>\n",
       "      <td>420</td>\n",
       "      <td>940</td>\n",
       "    </tr>\n",
       "    <tr>\n",
       "      <th>4</th>\n",
       "      <td>5</td>\n",
       "      <td>charlie</td>\n",
       "      <td>NaN</td>\n",
       "      <td>2032-09-15</td>\n",
       "      <td>310</td>\n",
       "      <td>500</td>\n",
       "    </tr>\n",
       "  </tbody>\n",
       "</table>\n",
       "</div>"
      ],
      "text/plain": [
       "   User ID Username   Age Joined Date  Total Posts  Reputation\n",
       "3        4    mcast  38.0  2032-06-21          420         940\n",
       "4        5  charlie   NaN  2032-09-15          310         500"
      ]
     },
     "execution_count": 121,
     "metadata": {},
     "output_type": "execute_result"
    }
   ],
   "source": [
    "df.tail(2)"
   ]
  },
  {
   "cell_type": "code",
   "execution_count": 122,
   "id": "fc9865de-00e4-4b99-a57b-d2bd3c127b37",
   "metadata": {},
   "outputs": [
    {
     "data": {
      "text/html": [
       "<div>\n",
       "<style scoped>\n",
       "    .dataframe tbody tr th:only-of-type {\n",
       "        vertical-align: middle;\n",
       "    }\n",
       "\n",
       "    .dataframe tbody tr th {\n",
       "        vertical-align: top;\n",
       "    }\n",
       "\n",
       "    .dataframe thead th {\n",
       "        text-align: right;\n",
       "    }\n",
       "</style>\n",
       "<table border=\"1\" class=\"dataframe\">\n",
       "  <thead>\n",
       "    <tr style=\"text-align: right;\">\n",
       "      <th></th>\n",
       "      <th>User ID</th>\n",
       "      <th>Age</th>\n",
       "      <th>Joined Date</th>\n",
       "      <th>Total Posts</th>\n",
       "      <th>Reputation</th>\n",
       "    </tr>\n",
       "  </thead>\n",
       "  <tbody>\n",
       "    <tr>\n",
       "      <th>count</th>\n",
       "      <td>5.00</td>\n",
       "      <td>4.00</td>\n",
       "      <td>5</td>\n",
       "      <td>5.0</td>\n",
       "      <td>5.00</td>\n",
       "    </tr>\n",
       "    <tr>\n",
       "      <th>mean</th>\n",
       "      <td>3.00</td>\n",
       "      <td>29.00</td>\n",
       "      <td>2032-04-28 00:00:00</td>\n",
       "      <td>238.0</td>\n",
       "      <td>572.00</td>\n",
       "    </tr>\n",
       "    <tr>\n",
       "      <th>min</th>\n",
       "      <td>1.00</td>\n",
       "      <td>18.00</td>\n",
       "      <td>2032-01-01 00:00:00</td>\n",
       "      <td>80.0</td>\n",
       "      <td>200.00</td>\n",
       "    </tr>\n",
       "    <tr>\n",
       "      <th>25%</th>\n",
       "      <td>2.00</td>\n",
       "      <td>23.25</td>\n",
       "      <td>2032-02-15 00:00:00</td>\n",
       "      <td>150.0</td>\n",
       "      <td>500.00</td>\n",
       "    </tr>\n",
       "    <tr>\n",
       "      <th>50%</th>\n",
       "      <td>3.00</td>\n",
       "      <td>30.00</td>\n",
       "      <td>2032-04-25 00:00:00</td>\n",
       "      <td>230.0</td>\n",
       "      <td>500.00</td>\n",
       "    </tr>\n",
       "    <tr>\n",
       "      <th>75%</th>\n",
       "      <td>4.00</td>\n",
       "      <td>35.75</td>\n",
       "      <td>2032-06-21 00:00:00</td>\n",
       "      <td>310.0</td>\n",
       "      <td>720.00</td>\n",
       "    </tr>\n",
       "    <tr>\n",
       "      <th>max</th>\n",
       "      <td>5.00</td>\n",
       "      <td>38.00</td>\n",
       "      <td>2032-09-15 00:00:00</td>\n",
       "      <td>420.0</td>\n",
       "      <td>940.00</td>\n",
       "    </tr>\n",
       "    <tr>\n",
       "      <th>std</th>\n",
       "      <td>1.58</td>\n",
       "      <td>9.20</td>\n",
       "      <td>NaN</td>\n",
       "      <td>133.3</td>\n",
       "      <td>276.62</td>\n",
       "    </tr>\n",
       "  </tbody>\n",
       "</table>\n",
       "</div>"
      ],
      "text/plain": [
       "       User ID    Age          Joined Date  Total Posts  Reputation\n",
       "count     5.00   4.00                    5          5.0        5.00\n",
       "mean      3.00  29.00  2032-04-28 00:00:00        238.0      572.00\n",
       "min       1.00  18.00  2032-01-01 00:00:00         80.0      200.00\n",
       "25%       2.00  23.25  2032-02-15 00:00:00        150.0      500.00\n",
       "50%       3.00  30.00  2032-04-25 00:00:00        230.0      500.00\n",
       "75%       4.00  35.75  2032-06-21 00:00:00        310.0      720.00\n",
       "max       5.00  38.00  2032-09-15 00:00:00        420.0      940.00\n",
       "std       1.58   9.20                  NaN        133.3      276.62"
      ]
     },
     "execution_count": 122,
     "metadata": {},
     "output_type": "execute_result"
    }
   ],
   "source": [
    "df.describe().round(2)"
   ]
  },
  {
   "cell_type": "code",
   "execution_count": 130,
   "id": "55ecc192-70fd-4661-a135-6741b2fef491",
   "metadata": {},
   "outputs": [
    {
     "data": {
      "text/plain": [
       "Index(['Username'], dtype='object')"
      ]
     },
     "execution_count": 130,
     "metadata": {},
     "output_type": "execute_result"
    }
   ],
   "source": [
    "df.select_dtypes(include='object').columns"
   ]
  },
  {
   "cell_type": "code",
   "execution_count": 124,
   "id": "1a5090fa-f6b0-4706-a554-e7e9128d73d8",
   "metadata": {},
   "outputs": [
    {
     "data": {
      "text/html": [
       "<div>\n",
       "<style scoped>\n",
       "    .dataframe tbody tr th:only-of-type {\n",
       "        vertical-align: middle;\n",
       "    }\n",
       "\n",
       "    .dataframe tbody tr th {\n",
       "        vertical-align: top;\n",
       "    }\n",
       "\n",
       "    .dataframe thead th {\n",
       "        text-align: right;\n",
       "    }\n",
       "</style>\n",
       "<table border=\"1\" class=\"dataframe\">\n",
       "  <thead>\n",
       "    <tr style=\"text-align: right;\">\n",
       "      <th></th>\n",
       "      <th>User ID</th>\n",
       "      <th>Username</th>\n",
       "      <th>Age</th>\n",
       "      <th>Joined Date</th>\n",
       "      <th>Total Posts</th>\n",
       "      <th>Reputation</th>\n",
       "    </tr>\n",
       "  </thead>\n",
       "  <tbody>\n",
       "    <tr>\n",
       "      <th>0</th>\n",
       "      <td>False</td>\n",
       "      <td>False</td>\n",
       "      <td>False</td>\n",
       "      <td>False</td>\n",
       "      <td>False</td>\n",
       "      <td>False</td>\n",
       "    </tr>\n",
       "    <tr>\n",
       "      <th>1</th>\n",
       "      <td>False</td>\n",
       "      <td>False</td>\n",
       "      <td>False</td>\n",
       "      <td>False</td>\n",
       "      <td>False</td>\n",
       "      <td>False</td>\n",
       "    </tr>\n",
       "    <tr>\n",
       "      <th>2</th>\n",
       "      <td>False</td>\n",
       "      <td>False</td>\n",
       "      <td>False</td>\n",
       "      <td>False</td>\n",
       "      <td>False</td>\n",
       "      <td>False</td>\n",
       "    </tr>\n",
       "    <tr>\n",
       "      <th>3</th>\n",
       "      <td>False</td>\n",
       "      <td>False</td>\n",
       "      <td>False</td>\n",
       "      <td>False</td>\n",
       "      <td>False</td>\n",
       "      <td>False</td>\n",
       "    </tr>\n",
       "    <tr>\n",
       "      <th>4</th>\n",
       "      <td>False</td>\n",
       "      <td>False</td>\n",
       "      <td>True</td>\n",
       "      <td>False</td>\n",
       "      <td>False</td>\n",
       "      <td>False</td>\n",
       "    </tr>\n",
       "  </tbody>\n",
       "</table>\n",
       "</div>"
      ],
      "text/plain": [
       "   User ID  Username    Age  Joined Date  Total Posts  Reputation\n",
       "0    False     False  False        False        False       False\n",
       "1    False     False  False        False        False       False\n",
       "2    False     False  False        False        False       False\n",
       "3    False     False  False        False        False       False\n",
       "4    False     False   True        False        False       False"
      ]
     },
     "execution_count": 124,
     "metadata": {},
     "output_type": "execute_result"
    }
   ],
   "source": [
    "df.isna()"
   ]
  },
  {
   "cell_type": "code",
   "execution_count": 131,
   "id": "53107783-dc78-4838-a9d3-1e726088c561",
   "metadata": {},
   "outputs": [
    {
     "data": {
      "text/plain": [
       "pandas.core.series.Series"
      ]
     },
     "execution_count": 131,
     "metadata": {},
     "output_type": "execute_result"
    }
   ],
   "source": [
    "df.isna().sum()"
   ]
  },
  {
   "cell_type": "markdown",
   "id": "fdd8c3b8-b49c-432e-a763-26bf591a8f45",
   "metadata": {},
   "source": [
    "## Series"
   ]
  },
  {
   "cell_type": "code",
   "execution_count": 137,
   "id": "a4d4175f-30f7-4a54-b264-861f0ea7d591",
   "metadata": {},
   "outputs": [
    {
     "data": {
      "text/plain": [
       "0     nicky_a\n",
       "1    mike_sky\n",
       "2     anymike\n",
       "3       mcast\n",
       "4     charlie\n",
       "Name: Username, dtype: object"
      ]
     },
     "execution_count": 137,
     "metadata": {},
     "output_type": "execute_result"
    }
   ],
   "source": [
    "username_series = df['Username']\n",
    "username_series"
   ]
  },
  {
   "cell_type": "code",
   "execution_count": 138,
   "id": "cca3ac6b-8ea3-4938-9bf1-b9da174e33fe",
   "metadata": {},
   "outputs": [
    {
     "data": {
      "text/plain": [
       "pandas.core.series.Series"
      ]
     },
     "execution_count": 138,
     "metadata": {},
     "output_type": "execute_result"
    }
   ],
   "source": [
    "type(username_series)"
   ]
  },
  {
   "cell_type": "code",
   "execution_count": 139,
   "id": "dc7d1341-fd97-45a8-9c64-4c28528dfc20",
   "metadata": {},
   "outputs": [
    {
     "data": {
      "text/plain": [
       "array(['nicky_a', 'mike_sky', 'anymike', 'mcast', 'charlie'], dtype=object)"
      ]
     },
     "execution_count": 139,
     "metadata": {},
     "output_type": "execute_result"
    }
   ],
   "source": [
    "username_series.values"
   ]
  },
  {
   "cell_type": "code",
   "execution_count": 140,
   "id": "67fcfffc-b2f8-429f-861e-d158b632e5f6",
   "metadata": {},
   "outputs": [
    {
     "data": {
      "text/plain": [
       "numpy.ndarray"
      ]
     },
     "execution_count": 140,
     "metadata": {},
     "output_type": "execute_result"
    }
   ],
   "source": [
    "type(username_series.values)"
   ]
  },
  {
   "cell_type": "code",
   "execution_count": 141,
   "id": "dfe91766-df48-49f9-a334-b2c0d6ad791b",
   "metadata": {},
   "outputs": [
    {
     "data": {
      "text/plain": [
       "RangeIndex(start=0, stop=5, step=1)"
      ]
     },
     "execution_count": 141,
     "metadata": {},
     "output_type": "execute_result"
    }
   ],
   "source": [
    "username_series.index"
   ]
  },
  {
   "cell_type": "code",
   "execution_count": 151,
   "id": "f22c6a2c-2145-49e3-807e-c5024167d169",
   "metadata": {},
   "outputs": [
    {
     "data": {
      "text/plain": [
       "Reputation\n",
       "500    2\n",
       "720    1\n",
       "200    1\n",
       "940    1\n",
       "Name: count, dtype: int64"
      ]
     },
     "execution_count": 151,
     "metadata": {},
     "output_type": "execute_result"
    }
   ],
   "source": [
    "df['Reputation'].value_counts()"
   ]
  },
  {
   "cell_type": "code",
   "execution_count": 152,
   "id": "afbc0a15-ad3c-41a9-b7fa-255e99664219",
   "metadata": {},
   "outputs": [
    {
     "data": {
      "text/plain": [
       "Reputation\n",
       "720    1\n",
       "200    1\n",
       "940    1\n",
       "500    2\n",
       "Name: count, dtype: int64"
      ]
     },
     "execution_count": 152,
     "metadata": {},
     "output_type": "execute_result"
    }
   ],
   "source": [
    "df['Reputation'].value_counts(ascending=True)"
   ]
  },
  {
   "cell_type": "code",
   "execution_count": 153,
   "id": "bb7c3f7f-f368-4c6d-baa4-1f1b059c75dc",
   "metadata": {},
   "outputs": [
    {
     "data": {
      "text/plain": [
       "array([500, 720, 200, 940])"
      ]
     },
     "execution_count": 153,
     "metadata": {},
     "output_type": "execute_result"
    }
   ],
   "source": [
    "df['Reputation'].unique()"
   ]
  },
  {
   "cell_type": "code",
   "execution_count": 154,
   "id": "916d68ce-1915-4ef2-8484-2d30287f07ae",
   "metadata": {},
   "outputs": [
    {
     "data": {
      "text/plain": [
       "2     anymike\n",
       "4     charlie\n",
       "3       mcast\n",
       "1    mike_sky\n",
       "0     nicky_a\n",
       "Name: Username, dtype: object"
      ]
     },
     "execution_count": 154,
     "metadata": {},
     "output_type": "execute_result"
    }
   ],
   "source": [
    "df['Username'].sort_values()"
   ]
  },
  {
   "cell_type": "code",
   "execution_count": null,
   "id": "dcfa0bae-a8bf-4595-9863-b6607f337438",
   "metadata": {},
   "outputs": [],
   "source": []
  }
 ],
 "metadata": {
  "kernelspec": {
   "display_name": "Python 3 (ipykernel)",
   "language": "python",
   "name": "python3"
  },
  "language_info": {
   "codemirror_mode": {
    "name": "ipython",
    "version": 3
   },
   "file_extension": ".py",
   "mimetype": "text/x-python",
   "name": "python",
   "nbconvert_exporter": "python",
   "pygments_lexer": "ipython3",
   "version": "3.12.4"
  }
 },
 "nbformat": 4,
 "nbformat_minor": 5
}

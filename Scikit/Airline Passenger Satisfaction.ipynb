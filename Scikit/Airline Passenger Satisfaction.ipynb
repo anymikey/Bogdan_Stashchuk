{
 "cells": [
  {
   "cell_type": "code",
   "execution_count": null,
   "id": "5001f697-84be-47f1-94c9-90a9d4f6fbec",
   "metadata": {},
   "outputs": [],
   "source": [
    "import pandas as pd\n",
    "import matplotlib.pyplot as plt\n",
    "import seaborn as sns\n",
    "from sklearn.preprocessing import LabelEncoder\n",
    "import numpy as np"
   ]
  },
  {
   "cell_type": "markdown",
   "id": "ea1bbbcf-c618-4efa-a9d2-22c1f527601a",
   "metadata": {},
   "source": [
    "## Loading Data"
   ]
  },
  {
   "cell_type": "code",
   "execution_count": null,
   "id": "9898fd12-dd3a-480b-84e3-20711afe5858",
   "metadata": {},
   "outputs": [],
   "source": [
    "df = pd.read_csv('airline_passenger_satisfaction.csv')\n",
    "pd.set_option('display.max_columns', None)  # показує всі колонки\n",
    "df.head(10)"
   ]
  },
  {
   "cell_type": "code",
   "execution_count": null,
   "id": "a84e41d1-d68b-4277-a91a-4ff4872bef37",
   "metadata": {},
   "outputs": [],
   "source": [
    "df.shape"
   ]
  },
  {
   "cell_type": "code",
   "execution_count": null,
   "id": "5f4b077c-f00d-4ed2-9a82-48eb8cc908d5",
   "metadata": {},
   "outputs": [],
   "source": [
    "df.describe()"
   ]
  },
  {
   "cell_type": "code",
   "execution_count": null,
   "id": "3445a797-cdf5-498f-92b7-29dab4b6e43e",
   "metadata": {},
   "outputs": [],
   "source": [
    "df.dtypes"
   ]
  },
  {
   "cell_type": "markdown",
   "id": "c46eaec1-0e3f-4576-afef-666916b4527f",
   "metadata": {},
   "source": [
    "## Data Cleaning"
   ]
  },
  {
   "cell_type": "code",
   "execution_count": null,
   "id": "94054083-1f54-4d02-a1cf-e523da4ff3fd",
   "metadata": {},
   "outputs": [],
   "source": [
    "df.info()"
   ]
  },
  {
   "cell_type": "code",
   "execution_count": null,
   "id": "2de0f8ff-e99a-4b55-b880-ac88830b156b",
   "metadata": {},
   "outputs": [],
   "source": [
    "df.isnull().sum()"
   ]
  },
  {
   "cell_type": "code",
   "execution_count": null,
   "id": "df3627e3-59a9-41e9-b3c9-29c23c2152fc",
   "metadata": {},
   "outputs": [],
   "source": [
    "df['Arrival Delay']"
   ]
  },
  {
   "cell_type": "code",
   "execution_count": null,
   "id": "0486acd7-856d-4291-a1b4-58636f358d98",
   "metadata": {},
   "outputs": [],
   "source": [
    "df['Arrival Delay'].mean()"
   ]
  },
  {
   "cell_type": "code",
   "execution_count": null,
   "id": "3cb1133b-d770-41ed-b6b5-691951fa3011",
   "metadata": {},
   "outputs": [],
   "source": [
    "df['Arrival Delay'].fillna(df['Arrival Delay'].mean(), inplace=True)"
   ]
  },
  {
   "cell_type": "code",
   "execution_count": null,
   "id": "dab6daf6-fad2-426a-aa46-e27013cb50db",
   "metadata": {},
   "outputs": [],
   "source": [
    "df.isnull().sum()"
   ]
  },
  {
   "cell_type": "markdown",
   "id": "668b013b-c333-4629-b0c3-211aaca17905",
   "metadata": {},
   "source": [
    "## Charts"
   ]
  },
  {
   "cell_type": "code",
   "execution_count": null,
   "id": "84022c89-2041-41cd-be4a-66261bbc1ab1",
   "metadata": {},
   "outputs": [],
   "source": [
    "plt.pie(df['Satisfaction'].value_counts(), labels=['Neutral or Dissatisfied', 'Satisfied'], autopct='%1.1f%%')\n",
    "plt.show()"
   ]
  },
  {
   "cell_type": "code",
   "execution_count": null,
   "id": "ea573299-e612-48f9-808d-7af86b822650",
   "metadata": {},
   "outputs": [],
   "source": [
    "cols = ['Gender', 'Customer Type', 'Type of Travel', 'Class', 'Satisfaction']\n",
    "plt.figure(figsize=(15, 15))\n",
    "for i, col in enumerate(cols):\n",
    "    plt.subplot(3, 2, i + 1)\n",
    "    sns.countplot(x=col, data=df)\n",
    "plt.show()"
   ]
  },
  {
   "cell_type": "code",
   "execution_count": null,
   "id": "101d1402-d7c2-4ba4-a70a-a8eba30c7fdc",
   "metadata": {},
   "outputs": [],
   "source": [
    "df.hist(bins=20, figsize=(20, 20), color='green')\n",
    "plt.show()"
   ]
  },
  {
   "cell_type": "markdown",
   "id": "7b1e7a57-1ea8-4b63-9813-f4c249f5edb3",
   "metadata": {},
   "source": [
    "## Column Data Encoding"
   ]
  },
  {
   "cell_type": "code",
   "execution_count": null,
   "id": "ad49e155-9a1b-41a5-923d-7ae10139ebb1",
   "metadata": {},
   "outputs": [],
   "source": [
    "df.select_dtypes(include='object').columns"
   ]
  },
  {
   "cell_type": "code",
   "execution_count": null,
   "id": "a082dde0-50fe-4a8b-8f85-8074779a41bc",
   "metadata": {},
   "outputs": [],
   "source": [
    "df['Gender'].unique()"
   ]
  },
  {
   "cell_type": "code",
   "execution_count": null,
   "id": "3dd74438-7a1a-49b9-8070-efd7a20d2919",
   "metadata": {},
   "outputs": [],
   "source": [
    "df['Customer Type'].unique()"
   ]
  },
  {
   "cell_type": "code",
   "execution_count": null,
   "id": "f1ebcaf5-ccce-49c8-8971-c0adbde0003f",
   "metadata": {},
   "outputs": [],
   "source": [
    "df['Type of Travel'].unique()"
   ]
  },
  {
   "cell_type": "code",
   "execution_count": null,
   "id": "4c576b44-c829-449d-bd77-b5dbbe3e8fed",
   "metadata": {},
   "outputs": [],
   "source": [
    "df['Class'].unique()"
   ]
  },
  {
   "cell_type": "code",
   "execution_count": null,
   "id": "1bdf8e99-b8df-4c0c-8e89-6f52e504f687",
   "metadata": {},
   "outputs": [],
   "source": [
    "df['Satisfaction'].unique()"
   ]
  },
  {
   "cell_type": "code",
   "execution_count": null,
   "id": "6fab3978-af92-44d7-9913-efced3420adb",
   "metadata": {},
   "outputs": [],
   "source": [
    "# Варіант 1\n",
    "label_encoder = LabelEncoder()\n",
    "\n",
    "columns = df.select_dtypes(include='object').drop(columns='Satisfaction').columns\n",
    "\n",
    "for column in columns:\n",
    "    df[column] = label_encoder.fit_transform(df[column])\n",
    "\n",
    "df.head()"
   ]
  },
  {
   "cell_type": "code",
   "execution_count": null,
   "id": "00f294d7-7467-4bd9-ba32-f08529ba1e4f",
   "metadata": {},
   "outputs": [],
   "source": [
    "# Варіант 2\n",
    "# df.replace({\n",
    "#     'Gender': {\n",
    "#         'Male': 1,\n",
    "#         'Female': 2\n",
    "#     },\n",
    "#     'Customer Type': {\n",
    "#       'First-time': 1,\n",
    "#       'Returning': 2\n",
    "#     },\n",
    "#     'Type of Travel': {\n",
    "#         'Business': 1,\n",
    "#         'Personal': 2\n",
    "#     },\n",
    "#     'Class': {\n",
    "#         'Business': 1,\n",
    "#         'Economy': 2,\n",
    "#         'Economy Plus': 3\n",
    "#     }\n",
    "# }, inplace=True)\n",
    "# df.head()"
   ]
  },
  {
   "cell_type": "code",
   "execution_count": null,
   "id": "9d4ccec6-c90f-412d-a1b2-fdaca905a9c0",
   "metadata": {},
   "outputs": [],
   "source": [
    "df.dtypes"
   ]
  },
  {
   "cell_type": "markdown",
   "id": "9b826a9e-b49b-469b-80b1-430d6587391f",
   "metadata": {},
   "source": [
    "## Additional Charts"
   ]
  },
  {
   "cell_type": "code",
   "execution_count": null,
   "id": "8a5d2409-8922-4e8c-9772-a583c125cf8b",
   "metadata": {},
   "outputs": [],
   "source": [
    "plt.figure(figsize=(16, 8))\n",
    "sns.heatmap(df.drop(columns='Satisfaction').corr(), annot=True, fmt='.2f', cmap='Greens')\n",
    "plt.show()"
   ]
  },
  {
   "cell_type": "code",
   "execution_count": null,
   "id": "9c8550fd-5556-4f55-acb4-784441b7a611",
   "metadata": {
    "scrolled": true
   },
   "outputs": [],
   "source": [
    "sns.catplot(data=df, x='Age', height=4, aspect=4, kind='count', hue='Satisfaction', order=range(7, 73))\n",
    "plt.show()"
   ]
  },
  {
   "cell_type": "code",
   "execution_count": null,
   "id": "84df5f6f-1e48-4f93-b28f-e62002d2d925",
   "metadata": {},
   "outputs": [],
   "source": [
    "sns.catplot(data=df, x='On-board Service', height=4, aspect=4, kind='count', hue='Satisfaction')\n",
    "plt.show()"
   ]
  },
  {
   "cell_type": "code",
   "execution_count": null,
   "id": "bc679393-ba03-4062-8f09-e5ddc5765bcd",
   "metadata": {},
   "outputs": [],
   "source": [
    "sns.catplot(data=df, x='Gender', height=4, aspect=4, kind='count', hue='Satisfaction')\n",
    "plt.show()"
   ]
  },
  {
   "cell_type": "markdown",
   "id": "9211fb6a-92b0-4db1-a60d-f420bf980319",
   "metadata": {},
   "source": [
    "## Filtering Data"
   ]
  },
  {
   "cell_type": "code",
   "execution_count": null,
   "id": "dccc9240-bd6c-4051-b0b6-50b1cdf439fd",
   "metadata": {},
   "outputs": [],
   "source": [
    "df[['Gender', 'Age', 'Type of Travel']].head()"
   ]
  },
  {
   "cell_type": "code",
   "execution_count": null,
   "id": "667130aa-8f98-48d8-a0f6-b954be03caee",
   "metadata": {},
   "outputs": [],
   "source": [
    "df.loc[2:5, ['Gender', 'Age', 'Flight Distance']]"
   ]
  },
  {
   "cell_type": "code",
   "execution_count": null,
   "id": "bfa428b5-de24-43d4-b905-7c9515ec4ff0",
   "metadata": {},
   "outputs": [],
   "source": [
    "df.loc[df['Age'] >50, ['Gender', 'Age', 'Flight Distance']].head()"
   ]
  },
  {
   "cell_type": "code",
   "execution_count": null,
   "id": "70c46cfe-3435-4b48-8554-33729082c64f",
   "metadata": {},
   "outputs": [],
   "source": [
    "df.loc[df['Gender'] == 1, ['Gender', 'Age', 'Flight Distance']].head()"
   ]
  },
  {
   "cell_type": "code",
   "execution_count": null,
   "id": "88676889-3779-40b6-abab-14df81eee25a",
   "metadata": {},
   "outputs": [],
   "source": [
    "df.iloc[10:15, 1:7].head()"
   ]
  },
  {
   "cell_type": "code",
   "execution_count": null,
   "id": "3e6749d5-e235-489c-9115-6587fa5473d6",
   "metadata": {},
   "outputs": [],
   "source": [
    "df.columns"
   ]
  },
  {
   "cell_type": "code",
   "execution_count": null,
   "id": "36ef5599-92a1-42ba-a032-ed54276638b8",
   "metadata": {},
   "outputs": [],
   "source": [
    "df.index"
   ]
  },
  {
   "cell_type": "markdown",
   "id": "9e9114a1-cf3e-4ced-bc1d-5d2ed8a73d73",
   "metadata": {},
   "source": [
    "## Models"
   ]
  },
  {
   "cell_type": "code",
   "execution_count": null,
   "id": "7e8d3339-4d14-4df1-bec6-f00be7a1bb30",
   "metadata": {},
   "outputs": [],
   "source": [
    "X = df.drop(columns='Satisfaction')\n",
    "X.head(3)"
   ]
  },
  {
   "cell_type": "code",
   "execution_count": null,
   "id": "2f57e4c3-fda8-49cb-8337-5446dba42f2f",
   "metadata": {},
   "outputs": [],
   "source": [
    "y = df['Satisfaction']\n",
    "y.head(3)"
   ]
  },
  {
   "cell_type": "markdown",
   "id": "58323821-e9a5-4123-ac7a-05686343bbd7",
   "metadata": {},
   "source": [
    "### Decision Tree"
   ]
  },
  {
   "cell_type": "code",
   "execution_count": null,
   "id": "e21b1f29-79b2-478d-b087-cb10dc677b34",
   "metadata": {},
   "outputs": [],
   "source": [
    "from sklearn.tree import DecisionTreeClassifier\n",
    "from sklearn.model_selection import train_test_split\n",
    "from sklearn.metrics import accuracy_score\n",
    "\n",
    "model = DecisionTreeClassifier()\n",
    "\n",
    "X_train, X_test, y_train, y_test = train_test_split(X, y, test_size=0.2)\n",
    "X.shape"
   ]
  },
  {
   "cell_type": "code",
   "execution_count": null,
   "id": "4924acc7-1f94-43b4-a47a-7a1938f9ae24",
   "metadata": {},
   "outputs": [],
   "source": [
    "X_train.shape"
   ]
  },
  {
   "cell_type": "code",
   "execution_count": null,
   "id": "f010e625-43ef-4103-a9e7-cbc2f4f22f1c",
   "metadata": {},
   "outputs": [],
   "source": [
    "X_test.shape"
   ]
  },
  {
   "cell_type": "code",
   "execution_count": null,
   "id": "1f131002-d520-482e-a277-982d49181657",
   "metadata": {},
   "outputs": [],
   "source": [
    "model.fit(X_train, y_train)"
   ]
  },
  {
   "cell_type": "code",
   "execution_count": null,
   "id": "dd5c0b84-ab39-4d47-9181-daec1a50e7b9",
   "metadata": {},
   "outputs": [],
   "source": [
    "predictions = model.predict(X_test)\n",
    "predictions"
   ]
  },
  {
   "cell_type": "code",
   "execution_count": 337,
   "id": "d8fa3623-dc21-4dce-a280-901cdab055bc",
   "metadata": {},
   "outputs": [
    {
     "data": {
      "text/plain": [
       "0.821835540498922"
      ]
     },
     "execution_count": 337,
     "metadata": {},
     "output_type": "execute_result"
    }
   ],
   "source": [
    "model_score = accuracy_score(y_test, predictions)\n",
    "model_score"
   ]
  },
  {
   "cell_type": "markdown",
   "id": "bebecc6a-e27e-4fc4-ab9b-9458d22769c8",
   "metadata": {},
   "source": [
    "### Random Forest"
   ]
  },
  {
   "cell_type": "code",
   "execution_count": 338,
   "id": "db472c5f-8431-4288-8b6d-e3e65d3e19a9",
   "metadata": {},
   "outputs": [
    {
     "data": {
      "text/plain": [
       "0.9663150600554358"
      ]
     },
     "execution_count": 338,
     "metadata": {},
     "output_type": "execute_result"
    }
   ],
   "source": [
    "from sklearn.ensemble import RandomForestClassifier\n",
    "from sklearn.model_selection import train_test_split\n",
    "from sklearn.metrics import accuracy_score\n",
    "\n",
    "model = RandomForestClassifier()\n",
    "\n",
    "X_train, X_test, y_train, y_test = train_test_split(X, y, test_size=0.2)\n",
    "\n",
    "model.fit(X_train, y_train)\n",
    "\n",
    "predictions = model.predict(X_test)\n",
    "predictions\n",
    "\n",
    "model_score = accuracy_score(y_test, predictions)\n",
    "model_score"
   ]
  },
  {
   "cell_type": "markdown",
   "id": "af7efe78-3a20-40b8-b6f0-0deed41cc885",
   "metadata": {},
   "source": [
    "### KNeighborsClassifier"
   ]
  },
  {
   "cell_type": "code",
   "execution_count": null,
   "id": "d0b10830-1944-4625-983d-c58a37aa801b",
   "metadata": {},
   "outputs": [],
   "source": [
    "# from sklearn.neighbors import KNeighborsClassifier\n",
    "# from sklearn.model_selection import train_test_split\n",
    "# from sklearn.metrics import accuracy_score\n",
    "\n",
    "# model = KNeighborsClassifier()\n",
    "\n",
    "# X_train, X_test, y_train, y_test = train_test_split(X, y, test_size=0.2)\n",
    "\n",
    "# model.fit(X_train, y_train)\n",
    "\n",
    "# predictions = model.predict(X_test)\n",
    "# predictions\n",
    "\n",
    "# model_score = accuracy_score(y_test, predictions)\n",
    "# model_score"
   ]
  },
  {
   "cell_type": "markdown",
   "id": "ee235950-6977-4dd9-b099-83679d5ad9cb",
   "metadata": {},
   "source": [
    "### Logistic Regression"
   ]
  },
  {
   "cell_type": "code",
   "execution_count": 336,
   "id": "9995a0b3-8b4b-43a8-b701-42dc340b8512",
   "metadata": {},
   "outputs": [],
   "source": [
    "# from sklearn.linear_model import LogisticRegression\n",
    "# from sklearn.model_selection import train_test_split\n",
    "# from sklearn.metrics import accuracy_score\n",
    "\n",
    "# model = LogisticRegression(max_iter=1000)\n",
    "\n",
    "# X_train, X_test, y_train, y_test = train_test_split(X, y, test_size=0.2)\n",
    "\n",
    "# model.fit(X_train, y_train)\n",
    "\n",
    "# predictions = model.predict(X_test)\n",
    "# predictions\n",
    "\n",
    "# model_score = accuracy_score(y_test, predictions)\n",
    "# model_score"
   ]
  },
  {
   "cell_type": "markdown",
   "id": "ae0b1a7a-a135-4d37-9b4c-ee41951d26aa",
   "metadata": {},
   "source": [
    "## Prediction without Voting columns"
   ]
  },
  {
   "cell_type": "code",
   "execution_count": 340,
   "id": "62ea7f17-1f11-419f-90aa-45db14ee54ed",
   "metadata": {},
   "outputs": [
    {
     "data": {
      "text/html": [
       "<div>\n",
       "<style scoped>\n",
       "    .dataframe tbody tr th:only-of-type {\n",
       "        vertical-align: middle;\n",
       "    }\n",
       "\n",
       "    .dataframe tbody tr th {\n",
       "        vertical-align: top;\n",
       "    }\n",
       "\n",
       "    .dataframe thead th {\n",
       "        text-align: right;\n",
       "    }\n",
       "</style>\n",
       "<table border=\"1\" class=\"dataframe\">\n",
       "  <thead>\n",
       "    <tr style=\"text-align: right;\">\n",
       "      <th></th>\n",
       "      <th>Gender</th>\n",
       "      <th>Age</th>\n",
       "      <th>Customer Type</th>\n",
       "      <th>Type of Travel</th>\n",
       "      <th>Class</th>\n",
       "      <th>Flight Distance</th>\n",
       "      <th>Departure Delay</th>\n",
       "      <th>Arrival Delay</th>\n",
       "    </tr>\n",
       "  </thead>\n",
       "  <tbody>\n",
       "    <tr>\n",
       "      <th>0</th>\n",
       "      <td>1</td>\n",
       "      <td>48</td>\n",
       "      <td>0</td>\n",
       "      <td>0</td>\n",
       "      <td>0</td>\n",
       "      <td>821</td>\n",
       "      <td>2</td>\n",
       "      <td>5.0</td>\n",
       "    </tr>\n",
       "    <tr>\n",
       "      <th>1</th>\n",
       "      <td>0</td>\n",
       "      <td>35</td>\n",
       "      <td>1</td>\n",
       "      <td>0</td>\n",
       "      <td>0</td>\n",
       "      <td>821</td>\n",
       "      <td>26</td>\n",
       "      <td>39.0</td>\n",
       "    </tr>\n",
       "    <tr>\n",
       "      <th>2</th>\n",
       "      <td>1</td>\n",
       "      <td>41</td>\n",
       "      <td>1</td>\n",
       "      <td>0</td>\n",
       "      <td>0</td>\n",
       "      <td>853</td>\n",
       "      <td>0</td>\n",
       "      <td>0.0</td>\n",
       "    </tr>\n",
       "    <tr>\n",
       "      <th>3</th>\n",
       "      <td>1</td>\n",
       "      <td>50</td>\n",
       "      <td>1</td>\n",
       "      <td>0</td>\n",
       "      <td>0</td>\n",
       "      <td>1905</td>\n",
       "      <td>0</td>\n",
       "      <td>0.0</td>\n",
       "    </tr>\n",
       "    <tr>\n",
       "      <th>4</th>\n",
       "      <td>0</td>\n",
       "      <td>49</td>\n",
       "      <td>1</td>\n",
       "      <td>0</td>\n",
       "      <td>0</td>\n",
       "      <td>3470</td>\n",
       "      <td>0</td>\n",
       "      <td>1.0</td>\n",
       "    </tr>\n",
       "  </tbody>\n",
       "</table>\n",
       "</div>"
      ],
      "text/plain": [
       "   Gender  Age  Customer Type  Type of Travel  Class  Flight Distance  \\\n",
       "0       1   48              0               0      0              821   \n",
       "1       0   35              1               0      0              821   \n",
       "2       1   41              1               0      0              853   \n",
       "3       1   50              1               0      0             1905   \n",
       "4       0   49              1               0      0             3470   \n",
       "\n",
       "   Departure Delay  Arrival Delay  \n",
       "0                2            5.0  \n",
       "1               26           39.0  \n",
       "2                0            0.0  \n",
       "3                0            0.0  \n",
       "4                0            1.0  "
      ]
     },
     "execution_count": 340,
     "metadata": {},
     "output_type": "execute_result"
    }
   ],
   "source": [
    "X = df[['Gender', 'Age', 'Customer Type', 'Type of Travel', 'Class', 'Flight Distance', 'Departure Delay', 'Arrival Delay']]\n",
    "X.head()"
   ]
  },
  {
   "cell_type": "code",
   "execution_count": 342,
   "id": "95b0c264-640a-418a-8f09-5b276dd512d9",
   "metadata": {},
   "outputs": [
    {
     "data": {
      "text/plain": [
       "0    Neutral or Dissatisfied\n",
       "1                  Satisfied\n",
       "2                  Satisfied\n",
       "3                  Satisfied\n",
       "4                  Satisfied\n",
       "Name: Satisfaction, dtype: object"
      ]
     },
     "execution_count": 342,
     "metadata": {},
     "output_type": "execute_result"
    }
   ],
   "source": [
    "y = df['Satisfaction']\n",
    "y.head()"
   ]
  },
  {
   "cell_type": "code",
   "execution_count": 343,
   "id": "a8192ae5-df34-4a2b-9960-9ea649649968",
   "metadata": {},
   "outputs": [
    {
     "data": {
      "text/plain": [
       "0.7704804434862951"
      ]
     },
     "execution_count": 343,
     "metadata": {},
     "output_type": "execute_result"
    }
   ],
   "source": [
    "from sklearn.ensemble import RandomForestClassifier\n",
    "from sklearn.model_selection import train_test_split\n",
    "from sklearn.metrics import accuracy_score\n",
    "\n",
    "model = RandomForestClassifier()\n",
    "\n",
    "X_train, X_test, y_train, y_test = train_test_split(X, y, test_size=0.2)\n",
    "\n",
    "model.fit(X_train, y_train)\n",
    "\n",
    "predictions = model.predict(X_test)\n",
    "predictions\n",
    "\n",
    "model_score = accuracy_score(y_test, predictions)\n",
    "model_score"
   ]
  },
  {
   "cell_type": "code",
   "execution_count": 344,
   "id": "20ef5502-86d4-40d0-95a3-7facd6a3ce7c",
   "metadata": {},
   "outputs": [
    {
     "data": {
      "text/plain": [
       "{'Gender': {},\n",
       " 'Age': {},\n",
       " 'Customer Type': {},\n",
       " 'Type of Travel': {},\n",
       " 'Class': {},\n",
       " 'Flight Distance': {},\n",
       " 'Departure Delay': {},\n",
       " 'Arrival Delay': {}}"
      ]
     },
     "execution_count": 344,
     "metadata": {},
     "output_type": "execute_result"
    }
   ],
   "source": [
    "X.iloc[:0].to_dict()"
   ]
  },
  {
   "cell_type": "code",
   "execution_count": 351,
   "id": "66ee80f8-ff76-41a2-9ef9-81e4dae3ee5f",
   "metadata": {},
   "outputs": [
    {
     "data": {
      "text/html": [
       "<div>\n",
       "<style scoped>\n",
       "    .dataframe tbody tr th:only-of-type {\n",
       "        vertical-align: middle;\n",
       "    }\n",
       "\n",
       "    .dataframe tbody tr th {\n",
       "        vertical-align: top;\n",
       "    }\n",
       "\n",
       "    .dataframe thead th {\n",
       "        text-align: right;\n",
       "    }\n",
       "</style>\n",
       "<table border=\"1\" class=\"dataframe\">\n",
       "  <thead>\n",
       "    <tr style=\"text-align: right;\">\n",
       "      <th></th>\n",
       "      <th>Gender</th>\n",
       "      <th>Age</th>\n",
       "      <th>Customer Type</th>\n",
       "      <th>Type of Travel</th>\n",
       "      <th>Class</th>\n",
       "      <th>Flight Distance</th>\n",
       "      <th>Departure Delay</th>\n",
       "      <th>Arrival Delay</th>\n",
       "    </tr>\n",
       "  </thead>\n",
       "  <tbody>\n",
       "    <tr>\n",
       "      <th>0</th>\n",
       "      <td>1</td>\n",
       "      <td>35</td>\n",
       "      <td>0</td>\n",
       "      <td>0</td>\n",
       "      <td>1</td>\n",
       "      <td>1200</td>\n",
       "      <td>0</td>\n",
       "      <td>0</td>\n",
       "    </tr>\n",
       "    <tr>\n",
       "      <th>1</th>\n",
       "      <td>0</td>\n",
       "      <td>25</td>\n",
       "      <td>1</td>\n",
       "      <td>0</td>\n",
       "      <td>1</td>\n",
       "      <td>600</td>\n",
       "      <td>5</td>\n",
       "      <td>5</td>\n",
       "    </tr>\n",
       "  </tbody>\n",
       "</table>\n",
       "</div>"
      ],
      "text/plain": [
       "   Gender  Age  Customer Type  Type of Travel  Class  Flight Distance  \\\n",
       "0       1   35              0               0      1             1200   \n",
       "1       0   25              1               0      1              600   \n",
       "\n",
       "   Departure Delay  Arrival Delay  \n",
       "0                0              0  \n",
       "1                5              5  "
      ]
     },
     "execution_count": 351,
     "metadata": {},
     "output_type": "execute_result"
    }
   ],
   "source": [
    "test_inputs = {\n",
    " 'Gender': [1, 0],\n",
    " 'Age': [35, 25],\n",
    " 'Customer Type': [0, 1],\n",
    " 'Type of Travel': [0, 0],\n",
    " 'Class': [1, 1],\n",
    " 'Flight Distance': [1200, 600],\n",
    " 'Departure Delay': [0, 5],\n",
    " 'Arrival Delay': [0, 5]\n",
    "}\n",
    "\n",
    "test_df = pd.DataFrame(test_inputs)\n",
    "test_df"
   ]
  },
  {
   "cell_type": "code",
   "execution_count": 352,
   "id": "df71e2e2-09f8-4267-b41c-ca212ee3677a",
   "metadata": {},
   "outputs": [
    {
     "data": {
      "text/plain": [
       "array(['Neutral or Dissatisfied', 'Neutral or Dissatisfied'], dtype=object)"
      ]
     },
     "execution_count": 352,
     "metadata": {},
     "output_type": "execute_result"
    }
   ],
   "source": [
    "model.predict(test_df)"
   ]
  },
  {
   "cell_type": "markdown",
   "id": "d96b1fb3-a617-442b-b322-2c8071c4cee6",
   "metadata": {},
   "source": [
    "## Saving Prediction Model"
   ]
  },
  {
   "cell_type": "code",
   "execution_count": 355,
   "id": "edbcfce0-220b-459c-bb8b-07ee8508420f",
   "metadata": {},
   "outputs": [
    {
     "data": {
      "text/plain": [
       "['airline_passenger_satisfaction.joblib']"
      ]
     },
     "execution_count": 355,
     "metadata": {},
     "output_type": "execute_result"
    }
   ],
   "source": [
    "import joblib\n",
    "joblib.dump(model, 'airline_passenger_satisfaction.joblib')"
   ]
  },
  {
   "cell_type": "code",
   "execution_count": 357,
   "id": "805a59d8-81ad-45e6-b334-71a1162b9042",
   "metadata": {},
   "outputs": [
    {
     "data": {
      "text/html": [
       "<div>\n",
       "<style scoped>\n",
       "    .dataframe tbody tr th:only-of-type {\n",
       "        vertical-align: middle;\n",
       "    }\n",
       "\n",
       "    .dataframe tbody tr th {\n",
       "        vertical-align: top;\n",
       "    }\n",
       "\n",
       "    .dataframe thead th {\n",
       "        text-align: right;\n",
       "    }\n",
       "</style>\n",
       "<table border=\"1\" class=\"dataframe\">\n",
       "  <thead>\n",
       "    <tr style=\"text-align: right;\">\n",
       "      <th></th>\n",
       "      <th>Gender</th>\n",
       "      <th>Age</th>\n",
       "      <th>Customer Type</th>\n",
       "      <th>Type of Travel</th>\n",
       "      <th>Class</th>\n",
       "      <th>Flight Distance</th>\n",
       "      <th>Departure Delay</th>\n",
       "      <th>Arrival Delay</th>\n",
       "    </tr>\n",
       "  </thead>\n",
       "  <tbody>\n",
       "    <tr>\n",
       "      <th>0</th>\n",
       "      <td>1</td>\n",
       "      <td>35</td>\n",
       "      <td>0</td>\n",
       "      <td>0</td>\n",
       "      <td>1</td>\n",
       "      <td>1200</td>\n",
       "      <td>0</td>\n",
       "      <td>0</td>\n",
       "    </tr>\n",
       "    <tr>\n",
       "      <th>1</th>\n",
       "      <td>0</td>\n",
       "      <td>25</td>\n",
       "      <td>1</td>\n",
       "      <td>0</td>\n",
       "      <td>1</td>\n",
       "      <td>600</td>\n",
       "      <td>5</td>\n",
       "      <td>5</td>\n",
       "    </tr>\n",
       "  </tbody>\n",
       "</table>\n",
       "</div>"
      ],
      "text/plain": [
       "   Gender  Age  Customer Type  Type of Travel  Class  Flight Distance  \\\n",
       "0       1   35              0               0      1             1200   \n",
       "1       0   25              1               0      1              600   \n",
       "\n",
       "   Departure Delay  Arrival Delay  \n",
       "0                0              0  \n",
       "1                5              5  "
      ]
     },
     "execution_count": 357,
     "metadata": {},
     "output_type": "execute_result"
    }
   ],
   "source": [
    "test_inputs = {\n",
    " 'Gender': [1, 0],\n",
    " 'Age': [35, 25],\n",
    " 'Customer Type': [0, 1],\n",
    " 'Type of Travel': [0, 0],\n",
    " 'Class': [1, 1],\n",
    " 'Flight Distance': [1200, 600],\n",
    " 'Departure Delay': [0, 5],\n",
    " 'Arrival Delay': [0, 5]\n",
    "}\n",
    "\n",
    "test_df = pd.DataFrame(test_inputs)\n",
    "test_df"
   ]
  },
  {
   "cell_type": "code",
   "execution_count": 358,
   "id": "ddf8c5b0-f835-48f5-ab19-49bdc86a008e",
   "metadata": {},
   "outputs": [
    {
     "data": {
      "text/plain": [
       "array(['Neutral or Dissatisfied', 'Neutral or Dissatisfied'], dtype=object)"
      ]
     },
     "execution_count": 358,
     "metadata": {},
     "output_type": "execute_result"
    }
   ],
   "source": [
    "trained_model = joblib.load('airline_passenger_satisfaction.joblib')\n",
    "trained_model.predict(test_df)"
   ]
  },
  {
   "cell_type": "code",
   "execution_count": null,
   "id": "b60f9ed7-6369-40ee-bd53-d8b0e46b81dd",
   "metadata": {},
   "outputs": [],
   "source": []
  }
 ],
 "metadata": {
  "kernelspec": {
   "display_name": "Python 3 (ipykernel)",
   "language": "python",
   "name": "python3"
  },
  "language_info": {
   "codemirror_mode": {
    "name": "ipython",
    "version": 3
   },
   "file_extension": ".py",
   "mimetype": "text/x-python",
   "name": "python",
   "nbconvert_exporter": "python",
   "pygments_lexer": "ipython3",
   "version": "3.12.4"
  }
 },
 "nbformat": 4,
 "nbformat_minor": 5
}
